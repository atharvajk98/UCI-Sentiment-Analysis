{
 "cells": [
  {
   "cell_type": "markdown",
   "metadata": {},
   "source": [
    "### IMPLEMENTATION OF DEEP LEARNING MODELS FOR SENTIMENT ANALYSIS OF YELP REVIEWS.\n",
    "* This notebooks contains the implementation of a Deep Neural Network (DNN), Convolutional Neural Network (CNN), and recurrent Neural Network (LSTM) for sentiment analysis.\n",
    "* The dataset used is **\"Sentiment Labelled Sentences Dataset\", from the UC Irvine Machine Learning Repository.**\n",
    "* The sentences come from three different websites/fields:\n",
    "    * amazon.com\n",
    "    * imdb.com\n",
    "    * yelp.com\n",
    "* In this notebook, only the Yelp Restaurant Reviews dataset is used.\n",
    "* Each sentence is labelled as either 1 (for positive) or 0 (for negative).\n",
    "* There exist 500 positive and 500 negative sentences.\n",
    "* This dataset was created for the Paper 'From Group to Individual Labels using Deep Features', Kotzias et. al,. KDD 2015.  *(Please cite the paper if you want to use it :))*\n",
    "\n",
    "* Link to the dataset is: [Sentiment Labelled Sentences Data Set](https://archive.ics.uci.edu/ml/datasets/Sentiment+Labelled+Sentences)"
   ]
  },
  {
   "cell_type": "markdown",
   "metadata": {},
   "source": [
    "### Importing modules:\n",
    "We are importing two custom built libraries namely \"TextPreprocessing.py\" and \"Model.py\".\n",
    "1. The **TextPreprocessing.py** file contains methods for reading the dataset, preprocessing it, generating tokens, and word embeddings.\n",
    "2. The **Model.py** file contains the Callback class as well as methods in which the DNN, CNN and RNN architectures are defined. It also contains methods to save, and plot models as well as predict class label."
   ]
  },
  {
   "cell_type": "code",
   "execution_count": 92,
   "metadata": {},
   "outputs": [],
   "source": [
    "from TextPreprocessing import TextPreprocessing\n",
    "import Model as model\n",
    "from sklearn.model_selection import train_test_split\n",
    "import tensorflow as tf\n",
    "from tensorflow import keras\n",
    "from keras.regularizers import l2\n",
    "import numpy as np\n",
    "import pandas as pd"
   ]
  },
  {
   "cell_type": "code",
   "execution_count": 93,
   "metadata": {},
   "outputs": [],
   "source": [
    "max_words = 10000\n",
    "oov_word = \"<00V>\"\n",
    "padding_type = \"post\"\n",
    "truncating_type = \"post\"\n",
    "pad_len = 32"
   ]
  },
  {
   "cell_type": "markdown",
   "metadata": {},
   "source": [
    "* Create an object of TextPreprocessing class.\n",
    "* This calls contains all the methods for text Preprocesing and vectorizaiton.\n",
    "* Passing \"yelp\" as the argument to the consturctor indicates that it must use the Yelp Restaurant Reviews dataset."
   ]
  },
  {
   "cell_type": "code",
   "execution_count": 95,
   "metadata": {},
   "outputs": [],
   "source": [
    "tp = TextPreprocessing('Yelp')"
   ]
  },
  {
   "cell_type": "code",
   "execution_count": 96,
   "metadata": {},
   "outputs": [],
   "source": [
    "corpus, labels = tp.get_data()"
   ]
  },
  {
   "cell_type": "code",
   "execution_count": 97,
   "metadata": {},
   "outputs": [],
   "source": [
    "df = pd.DataFrame(list(zip(corpus,labels)), columns=['corpus', 'labels'])"
   ]
  },
  {
   "cell_type": "code",
   "execution_count": 98,
   "metadata": {},
   "outputs": [
    {
     "data": {
      "text/html": [
       "<div>\n",
       "<style scoped>\n",
       "    .dataframe tbody tr th:only-of-type {\n",
       "        vertical-align: middle;\n",
       "    }\n",
       "\n",
       "    .dataframe tbody tr th {\n",
       "        vertical-align: top;\n",
       "    }\n",
       "\n",
       "    .dataframe thead th {\n",
       "        text-align: right;\n",
       "    }\n",
       "</style>\n",
       "<table border=\"1\" class=\"dataframe\">\n",
       "  <thead>\n",
       "    <tr style=\"text-align: right;\">\n",
       "      <th></th>\n",
       "      <th>corpus</th>\n",
       "      <th>labels</th>\n",
       "    </tr>\n",
       "  </thead>\n",
       "  <tbody>\n",
       "    <tr>\n",
       "      <th>0</th>\n",
       "      <td>Wow... Loved this place.</td>\n",
       "      <td>1</td>\n",
       "    </tr>\n",
       "    <tr>\n",
       "      <th>1</th>\n",
       "      <td>Crust is not good.</td>\n",
       "      <td>0</td>\n",
       "    </tr>\n",
       "    <tr>\n",
       "      <th>2</th>\n",
       "      <td>Not tasty and the texture was just nasty.</td>\n",
       "      <td>0</td>\n",
       "    </tr>\n",
       "    <tr>\n",
       "      <th>3</th>\n",
       "      <td>Stopped by during the late May bank holiday of...</td>\n",
       "      <td>1</td>\n",
       "    </tr>\n",
       "    <tr>\n",
       "      <th>4</th>\n",
       "      <td>The selection on the menu was great and so wer...</td>\n",
       "      <td>1</td>\n",
       "    </tr>\n",
       "  </tbody>\n",
       "</table>\n",
       "</div>"
      ],
      "text/plain": [
       "                                              corpus labels\n",
       "0                           Wow... Loved this place.      1\n",
       "1                                 Crust is not good.      0\n",
       "2          Not tasty and the texture was just nasty.      0\n",
       "3  Stopped by during the late May bank holiday of...      1\n",
       "4  The selection on the menu was great and so wer...      1"
      ]
     },
     "execution_count": 98,
     "metadata": {},
     "output_type": "execute_result"
    }
   ],
   "source": [
    "df.head()"
   ]
  },
  {
   "cell_type": "code",
   "execution_count": 99,
   "metadata": {},
   "outputs": [],
   "source": [
    "# Preprocess the dataset\n",
    "X = []\n",
    "for c in df['corpus'].values:\n",
    "    X.append(tp.preprocess_text(c))"
   ]
  },
  {
   "cell_type": "code",
   "execution_count": 100,
   "metadata": {},
   "outputs": [
    {
     "name": "stdout",
     "output_type": "stream",
     "text": [
      "Penne vodka excellent!\n",
      "penne vodka excellent\n",
      "1\n",
      "\n",
      "I won't try going back there even if it's empty.\n",
      "win try go back even empty\n",
      "0\n"
     ]
    }
   ],
   "source": [
    "print(df['corpus'].values[131])\n",
    "print(X[131])\n",
    "print(df['labels'].values[131])\n",
    "\n",
    "print(\"\\n\"+df['corpus'].values[543])\n",
    "print(X[543])\n",
    "print(df['labels'].values[543])"
   ]
  },
  {
   "cell_type": "code",
   "execution_count": 101,
   "metadata": {},
   "outputs": [],
   "source": [
    "#Splitting into training(80%) and testing data(20%)\n",
    "X_train, X_test, y_train, y_test = train_test_split(X, df['labels'].values, test_size=0.20, random_state=42, shuffle=True)"
   ]
  },
  {
   "cell_type": "code",
   "execution_count": 102,
   "metadata": {},
   "outputs": [],
   "source": [
    "y_train = y_train.reshape(y_train.shape[0], -1)\n",
    "y_train = np.array(y_train, dtype=np.float32)\n",
    "y_test = y_test.reshape(y_test.shape[0], -1)\n",
    "y_test = np.array(y_test, dtype=np.float32)"
   ]
  },
  {
   "cell_type": "code",
   "execution_count": 103,
   "metadata": {},
   "outputs": [],
   "source": [
    "#Tokenize and Pad the text sequences\n",
    "tokenizer, vocab_size, X_train_padded, X_test_padded = tp.tokenizer_and_pad_training(X_train, X_test, max_words, oov_word, padding_type, truncating_type, pad_len)"
   ]
  },
  {
   "cell_type": "code",
   "execution_count": 104,
   "metadata": {},
   "outputs": [
    {
     "name": "stdout",
     "output_type": "stream",
     "text": [
      "(800, 32)\n",
      "(800, 1)\n",
      "(200, 32)\n",
      "(200, 1)\n"
     ]
    }
   ],
   "source": [
    "print(X_train_padded.shape)\n",
    "print(y_train.shape)\n",
    "print(X_test_padded.shape)\n",
    "print(y_test.shape)"
   ]
  },
  {
   "cell_type": "markdown",
   "metadata": {},
   "source": [
    "### Word Embeddings:\n",
    "* GloVe Word Embeddings are used. \n",
    "* Each word is represented as a 100 dimensional feature vector.\n",
    "* The file contains embedings for the most frequently used 6 billion words in the english language."
   ]
  },
  {
   "cell_type": "code",
   "execution_count": 105,
   "metadata": {},
   "outputs": [],
   "source": [
    "embedding_matrix = tp.get_embedding_metrix(vocab_size, tokenizer)"
   ]
  },
  {
   "cell_type": "code",
   "execution_count": 106,
   "metadata": {},
   "outputs": [
    {
     "name": "stdout",
     "output_type": "stream",
     "text": [
      "(1399, 100)\n"
     ]
    }
   ],
   "source": [
    "print(embedding_matrix.shape)"
   ]
  },
  {
   "cell_type": "code",
   "execution_count": 107,
   "metadata": {},
   "outputs": [],
   "source": [
    "input_dim = vocab_size\n",
    "embedding_dim = 100\n",
    "input_len = pad_len\n",
    "\n",
    "myCB = model.myCallbacks()"
   ]
  },
  {
   "cell_type": "markdown",
   "metadata": {},
   "source": [
    "### Deep Neural Network Model:\n",
    "* A DNN architecture consists of an Embedding layer, followed by a GlobalMaxPooling1D and three Dense layers.\n",
    "* Pretained GloVe Word Embeddings are used which are again trained according to the dataset.\n",
    "* First Dense layer contains 20 hidden units, and second Dense layer contains 5 hidden units with relu activation.\n",
    "* Weight decay / L2 regularization with lambda=0.015 is used in both the dense layers to reduce overfitting.\n",
    "* The output layer is a Dense layer with a single hidden unit using softmax activation.\n",
    "* Adam optimizer and binary crossentropy loss is used.\n",
    "* The model is trained with a batch size of 32 for 40 epochs / unitl training accuracy reaches 99%."
   ]
  },
  {
   "cell_type": "code",
   "execution_count": 60,
   "metadata": {},
   "outputs": [
    {
     "name": "stdout",
     "output_type": "stream",
     "text": [
      "Model: \"sequential_13\"\n",
      "_________________________________________________________________\n",
      "Layer (type)                 Output Shape              Param #   \n",
      "=================================================================\n",
      "embedding_13 (Embedding)     (None, 32, 100)           139900    \n",
      "_________________________________________________________________\n",
      "global_max_pooling1d_13 (Glo (None, 100)               0         \n",
      "_________________________________________________________________\n",
      "dense_39 (Dense)             (None, 20)                2020      \n",
      "_________________________________________________________________\n",
      "dense_40 (Dense)             (None, 5)                 105       \n",
      "_________________________________________________________________\n",
      "dense_41 (Dense)             (None, 1)                 6         \n",
      "=================================================================\n",
      "Total params: 142,031\n",
      "Trainable params: 142,031\n",
      "Non-trainable params: 0\n",
      "_________________________________________________________________\n"
     ]
    }
   ],
   "source": [
    "myDNN = model.create_model_DNN(input_dim, embedding_dim, embedding_matrix, input_len, trainable=True, n1=20, n2=5, kr=l2(0.015))\n",
    "myDNN.summary()"
   ]
  },
  {
   "cell_type": "code",
   "execution_count": 61,
   "metadata": {},
   "outputs": [
    {
     "name": "stdout",
     "output_type": "stream",
     "text": [
      "Epoch 1/40\n",
      "25/25 [==============================] - 0s 7ms/step - loss: 1.2351 - acc: 0.4812 - val_loss: 1.1578 - val_acc: 0.4950\n",
      "Epoch 2/40\n",
      "25/25 [==============================] - 0s 4ms/step - loss: 1.1022 - acc: 0.5050 - val_loss: 1.0493 - val_acc: 0.4900\n",
      "Epoch 3/40\n",
      "25/25 [==============================] - 0s 4ms/step - loss: 0.9957 - acc: 0.5487 - val_loss: 0.9613 - val_acc: 0.5450\n",
      "Epoch 4/40\n",
      "25/25 [==============================] - 0s 6ms/step - loss: 0.9145 - acc: 0.6125 - val_loss: 0.8954 - val_acc: 0.6100\n",
      "Epoch 5/40\n",
      "25/25 [==============================] - 0s 5ms/step - loss: 0.8434 - acc: 0.7262 - val_loss: 0.8402 - val_acc: 0.6600\n",
      "Epoch 6/40\n",
      "25/25 [==============================] - 0s 4ms/step - loss: 0.7723 - acc: 0.7987 - val_loss: 0.7872 - val_acc: 0.6850\n",
      "Epoch 7/40\n",
      "25/25 [==============================] - 0s 5ms/step - loss: 0.6989 - acc: 0.8425 - val_loss: 0.7417 - val_acc: 0.7100\n",
      "Epoch 8/40\n",
      "25/25 [==============================] - 0s 3ms/step - loss: 0.6206 - acc: 0.8687 - val_loss: 0.6973 - val_acc: 0.7200\n",
      "Epoch 9/40\n",
      "25/25 [==============================] - 0s 4ms/step - loss: 0.5424 - acc: 0.9000 - val_loss: 0.6628 - val_acc: 0.7150\n",
      "Epoch 10/40\n",
      "25/25 [==============================] - 0s 5ms/step - loss: 0.4756 - acc: 0.9013 - val_loss: 0.6383 - val_acc: 0.7400\n",
      "Epoch 11/40\n",
      "25/25 [==============================] - 0s 3ms/step - loss: 0.4025 - acc: 0.9400 - val_loss: 0.6147 - val_acc: 0.7650\n",
      "Epoch 12/40\n",
      "25/25 [==============================] - 0s 4ms/step - loss: 0.3504 - acc: 0.9550 - val_loss: 0.5972 - val_acc: 0.7750\n",
      "Epoch 13/40\n",
      "25/25 [==============================] - 0s 4ms/step - loss: 0.3106 - acc: 0.9575 - val_loss: 0.5830 - val_acc: 0.7950\n",
      "Epoch 14/40\n",
      "25/25 [==============================] - 0s 4ms/step - loss: 0.2762 - acc: 0.9675 - val_loss: 0.5769 - val_acc: 0.8050\n",
      "Epoch 15/40\n",
      "25/25 [==============================] - 0s 4ms/step - loss: 0.2546 - acc: 0.9712 - val_loss: 0.5834 - val_acc: 0.7750\n",
      "Epoch 16/40\n",
      "25/25 [==============================] - 0s 4ms/step - loss: 0.2362 - acc: 0.9762 - val_loss: 0.5683 - val_acc: 0.8150\n",
      "Epoch 17/40\n",
      "25/25 [==============================] - 0s 3ms/step - loss: 0.2151 - acc: 0.9862 - val_loss: 0.5657 - val_acc: 0.8200\n",
      "Epoch 18/40\n",
      "20/25 [=======================>......] - ETA: 0s - loss: 0.2015 - acc: 0.9922\n",
      "Training accuracy above 99%...so training stopped...\n",
      "\n",
      "25/25 [==============================] - 0s 4ms/step - loss: 0.2023 - acc: 0.9912 - val_loss: 0.5665 - val_acc: 0.8200\n"
     ]
    }
   ],
   "source": [
    "history1 = myDNN.fit(X_train_padded, y_train, epochs=40, batch_size=32, verbose=1, validation_data = (X_test_padded, y_test), callbacks=[myCB])"
   ]
  },
  {
   "cell_type": "code",
   "execution_count": 62,
   "metadata": {
    "scrolled": false
   },
   "outputs": [
    {
     "data": {
      "image/png": "[encoded data removed]",
      "text/plain": [
       "<Figure size 432x288 with 1 Axes>"
      ]
     },
     "metadata": {
      "needs_background": "light"
     },
     "output_type": "display_data"
    },
    {
     "data": {
      "image/png": "[encoded data removed]",
      "text/plain": [
       "<Figure size 432x288 with 1 Axes>"
      ]
     },
     "metadata": {
      "needs_background": "light"
     },
     "output_type": "display_data"
    }
   ],
   "source": [
    "model.plot_curves(history1)"
   ]
  },
  {
   "cell_type": "markdown",
   "metadata": {},
   "source": [
    "### Results:\n",
    "* We get a training accuracy of 99.12% and testing accuracy of 82.00%.\n",
    "* The training loss is 0.2023 and testing loss is 0.5665 ."
   ]
  },
  {
   "cell_type": "code",
   "execution_count": 63,
   "metadata": {},
   "outputs": [],
   "source": [
    "model.save_model(myDNN, \"Yelp/DNN_n120_n25_kr0015_vacc82\")"
   ]
  },
  {
   "cell_type": "markdown",
   "metadata": {},
   "source": [
    "### Convolutional Neural Network Model:\n",
    "* A CNN architecture consists of an Embedding layer, followed by a Conv21D layer, GlobalMaxPooling1D layer, Dropout Layer and Dense layer.\n",
    "* Pretained GloVe Word Embeddings are used which are again trained according to the dataset.\n",
    "* The Conv21D layer contains 32 hidden units, with kernel size 5.\n",
    "* Weight decay / L2 regularization with lambda=0.02 is used for the Convolutional layer to reduce overfitting.\n",
    "* A dropout of 25% is implemented.\n",
    "* The output layer is a Dense layer with a single hidden unit using softmax activation.\n",
    "* Adam optimizer and binary crossentropy loss is used.\n",
    "* The model is trained with a batch size of 32 for 40 epochs / unitl training accuracy reaches 99%."
   ]
  },
  {
   "cell_type": "code",
   "execution_count": 77,
   "metadata": {},
   "outputs": [
    {
     "name": "stdout",
     "output_type": "stream",
     "text": [
      "Model: \"sequential_18\"\n",
      "_________________________________________________________________\n",
      "Layer (type)                 Output Shape              Param #   \n",
      "=================================================================\n",
      "embedding_18 (Embedding)     (None, 32, 100)           139900    \n",
      "_________________________________________________________________\n",
      "conv1d_4 (Conv1D)            (None, 28, 32)            16032     \n",
      "_________________________________________________________________\n",
      "global_max_pooling1d_18 (Glo (None, 32)                0         \n",
      "_________________________________________________________________\n",
      "dropout_4 (Dropout)          (None, 32)                0         \n",
      "_________________________________________________________________\n",
      "dense_46 (Dense)             (None, 1)                 33        \n",
      "=================================================================\n",
      "Total params: 155,965\n",
      "Trainable params: 155,965\n",
      "Non-trainable params: 0\n",
      "_________________________________________________________________\n"
     ]
    }
   ],
   "source": [
    "myCNN = model.create_model_CNN(input_dim, embedding_dim, embedding_matrix, input_len, trainable=True, n1=32, k=5, d=0.25, kr=l2(0.02))\n",
    "myCNN.summary()"
   ]
  },
  {
   "cell_type": "code",
   "execution_count": 78,
   "metadata": {
    "scrolled": true
   },
   "outputs": [
    {
     "name": "stdout",
     "output_type": "stream",
     "text": [
      "Epoch 1/40\n",
      "25/25 [==============================] - 0s 10ms/step - loss: 1.4899 - acc: 0.6137 - val_loss: 1.3200 - val_acc: 0.6550\n",
      "Epoch 2/40\n",
      "25/25 [==============================] - 0s 7ms/step - loss: 1.1284 - acc: 0.7600 - val_loss: 1.0981 - val_acc: 0.7000\n",
      "Epoch 3/40\n",
      "25/25 [==============================] - 0s 7ms/step - loss: 0.9039 - acc: 0.8263 - val_loss: 0.9590 - val_acc: 0.7150\n",
      "Epoch 4/40\n",
      "25/25 [==============================] - 0s 7ms/step - loss: 0.7419 - acc: 0.8575 - val_loss: 0.8425 - val_acc: 0.7350\n",
      "Epoch 5/40\n",
      "25/25 [==============================] - 0s 11ms/step - loss: 0.6449 - acc: 0.8725 - val_loss: 0.7578 - val_acc: 0.7550\n",
      "Epoch 6/40\n",
      "25/25 [==============================] - 0s 7ms/step - loss: 0.5534 - acc: 0.9013 - val_loss: 0.6998 - val_acc: 0.7500\n",
      "Epoch 7/40\n",
      "25/25 [==============================] - 0s 8ms/step - loss: 0.4899 - acc: 0.9087 - val_loss: 0.6724 - val_acc: 0.7750\n",
      "Epoch 8/40\n",
      "25/25 [==============================] - 0s 7ms/step - loss: 0.4354 - acc: 0.9325 - val_loss: 0.6287 - val_acc: 0.7800\n",
      "Epoch 9/40\n",
      "25/25 [==============================] - 0s 7ms/step - loss: 0.3918 - acc: 0.9488 - val_loss: 0.6073 - val_acc: 0.7850\n",
      "Epoch 10/40\n",
      "25/25 [==============================] - 0s 7ms/step - loss: 0.3565 - acc: 0.9475 - val_loss: 0.5642 - val_acc: 0.8000\n",
      "Epoch 11/40\n",
      "25/25 [==============================] - 0s 7ms/step - loss: 0.3268 - acc: 0.9625 - val_loss: 0.5667 - val_acc: 0.7900\n",
      "Epoch 12/40\n",
      "25/25 [==============================] - 0s 7ms/step - loss: 0.2978 - acc: 0.9638 - val_loss: 0.5401 - val_acc: 0.8000\n",
      "Epoch 13/40\n",
      "25/25 [==============================] - 0s 8ms/step - loss: 0.2829 - acc: 0.9725 - val_loss: 0.5166 - val_acc: 0.8200\n",
      "Epoch 14/40\n",
      "25/25 [==============================] - 0s 7ms/step - loss: 0.2591 - acc: 0.9775 - val_loss: 0.5071 - val_acc: 0.8200\n",
      "Epoch 15/40\n",
      "25/25 [==============================] - 0s 7ms/step - loss: 0.2431 - acc: 0.9762 - val_loss: 0.5019 - val_acc: 0.8100\n",
      "Epoch 16/40\n",
      "25/25 [==============================] - 0s 7ms/step - loss: 0.2284 - acc: 0.9800 - val_loss: 0.4903 - val_acc: 0.8250\n",
      "Epoch 17/40\n",
      "25/25 [==============================] - 0s 7ms/step - loss: 0.2169 - acc: 0.9762 - val_loss: 0.4804 - val_acc: 0.8150\n",
      "Epoch 18/40\n",
      "25/25 [==============================] - 0s 8ms/step - loss: 0.2001 - acc: 0.9862 - val_loss: 0.4821 - val_acc: 0.8250\n",
      "Epoch 19/40\n",
      "25/25 [==============================] - 0s 7ms/step - loss: 0.1931 - acc: 0.9862 - val_loss: 0.4796 - val_acc: 0.8250\n",
      "Epoch 20/40\n",
      "25/25 [==============================] - 0s 7ms/step - loss: 0.1814 - acc: 0.9875 - val_loss: 0.4783 - val_acc: 0.8250\n",
      "Epoch 21/40\n",
      "25/25 [==============================] - 0s 8ms/step - loss: 0.1709 - acc: 0.9887 - val_loss: 0.4775 - val_acc: 0.8200\n",
      "Epoch 22/40\n",
      "20/25 [=======================>......] - ETA: 0s - loss: 0.1691 - acc: 0.9875\n",
      "Training accuracy above 99%...so training stopped...\n",
      "\n",
      "25/25 [==============================] - 0s 7ms/step - loss: 0.1648 - acc: 0.9900 - val_loss: 0.4733 - val_acc: 0.8250\n"
     ]
    }
   ],
   "source": [
    "history2 = myCNN.fit(X_train_padded, y_train, epochs=40, batch_size=32, validation_data=(X_test_padded, y_test), callbacks=[myCB], verbose=1)"
   ]
  },
  {
   "cell_type": "code",
   "execution_count": 79,
   "metadata": {},
   "outputs": [
    {
     "data": {
      "image/png": "[encoded data removed]",
      "text/plain": [
       "<Figure size 432x288 with 1 Axes>"
      ]
     },
     "metadata": {
      "needs_background": "light"
     },
     "output_type": "display_data"
    },
    {
     "data": {
      "image/png": "[encoded data removed]",
      "text/plain": [
       "<Figure size 432x288 with 1 Axes>"
      ]
     },
     "metadata": {
      "needs_background": "light"
     },
     "output_type": "display_data"
    }
   ],
   "source": [
    "model.plot_curves(history2)"
   ]
  },
  {
   "cell_type": "markdown",
   "metadata": {},
   "source": [
    "### Results:\n",
    "* We get a training accuracy of 99.00% and testing accuracy of 82.50%.\n",
    "* The training loss is 0.1648 and testing loss is 0.4733 ."
   ]
  },
  {
   "cell_type": "code",
   "execution_count": 80,
   "metadata": {},
   "outputs": [],
   "source": [
    "model.save_model(myCNN, \"Yelp/CNN_n132_k5_d025_kr002_vacc82\")"
   ]
  },
  {
   "cell_type": "markdown",
   "metadata": {},
   "source": [
    "### Recurrent Neural Network Model:\n",
    "* A RNN architecture consists of an Embedding layer, followed by a Bidirectional LSTM layer, GlobalMaxPooling1D layer, and two Dense layers.\n",
    "* Pretained GloVe Word Embeddings are used which are again trained according to the dataset.\n",
    "* The Bidirectional LSTM layer contains 32 hidden units.\n",
    "* A dropout of 25% is implemented.\n",
    "* The following Dense layer contains 5 hidden units with relu activation.\n",
    "* The output layer is a Dense layer with a single hidden unit using softmax activation.\n",
    "* Adam optimizer and binary crossentropy loss is used.\n",
    "* The model is trained with a batch size of 32 for 40 epochs / unitl training accuracy reaches 99%."
   ]
  },
  {
   "cell_type": "code",
   "execution_count": 90,
   "metadata": {
    "scrolled": false
   },
   "outputs": [
    {
     "name": "stdout",
     "output_type": "stream",
     "text": [
      "Model: \"sequential_26\"\n",
      "_________________________________________________________________\n",
      "Layer (type)                 Output Shape              Param #   \n",
      "=================================================================\n",
      "embedding_26 (Embedding)     (None, 32, 100)           139900    \n",
      "_________________________________________________________________\n",
      "bidirectional_7 (Bidirection (None, 32, 64)            34048     \n",
      "_________________________________________________________________\n",
      "global_max_pooling1d_26 (Glo (None, 64)                0         \n",
      "_________________________________________________________________\n",
      "dense_61 (Dense)             (None, 5)                 325       \n",
      "_________________________________________________________________\n",
      "dense_62 (Dense)             (None, 1)                 6         \n",
      "=================================================================\n",
      "Total params: 174,279\n",
      "Trainable params: 174,279\n",
      "Non-trainable params: 0\n",
      "_________________________________________________________________\n",
      "Epoch 1/50\n",
      "25/25 [==============================] - 1s 39ms/step - loss: 0.6837 - acc: 0.5337 - val_loss: 0.6757 - val_acc: 0.5750\n",
      "Epoch 2/50\n",
      "25/25 [==============================] - 0s 16ms/step - loss: 0.6301 - acc: 0.7063 - val_loss: 0.6450 - val_acc: 0.6400\n",
      "Epoch 3/50\n",
      "25/25 [==============================] - 0s 17ms/step - loss: 0.5578 - acc: 0.7812 - val_loss: 0.5818 - val_acc: 0.7250\n",
      "Epoch 4/50\n",
      "25/25 [==============================] - 0s 17ms/step - loss: 0.4488 - acc: 0.8388 - val_loss: 0.5405 - val_acc: 0.7400\n",
      "Epoch 5/50\n",
      "25/25 [==============================] - 0s 18ms/step - loss: 0.3534 - acc: 0.8763 - val_loss: 0.5317 - val_acc: 0.7600\n",
      "Epoch 6/50\n",
      "25/25 [==============================] - 0s 16ms/step - loss: 0.2839 - acc: 0.8838 - val_loss: 0.5111 - val_acc: 0.7900\n",
      "Epoch 7/50\n",
      "25/25 [==============================] - 0s 16ms/step - loss: 0.2252 - acc: 0.9175 - val_loss: 0.4979 - val_acc: 0.8000\n",
      "Epoch 8/50\n",
      "25/25 [==============================] - 0s 18ms/step - loss: 0.1853 - acc: 0.9300 - val_loss: 0.4706 - val_acc: 0.8200\n",
      "Epoch 9/50\n",
      "25/25 [==============================] - 0s 16ms/step - loss: 0.1693 - acc: 0.9413 - val_loss: 0.5233 - val_acc: 0.7900\n",
      "Epoch 10/50\n",
      "25/25 [==============================] - 0s 17ms/step - loss: 0.1381 - acc: 0.9500 - val_loss: 0.5057 - val_acc: 0.8200\n",
      "Epoch 11/50\n",
      "25/25 [==============================] - 0s 16ms/step - loss: 0.1227 - acc: 0.9650 - val_loss: 0.5210 - val_acc: 0.8150\n",
      "Epoch 12/50\n",
      "25/25 [==============================] - 0s 16ms/step - loss: 0.1185 - acc: 0.9638 - val_loss: 0.5431 - val_acc: 0.8050\n",
      "Epoch 13/50\n",
      "25/25 [==============================] - 0s 17ms/step - loss: 0.0968 - acc: 0.9663 - val_loss: 0.5464 - val_acc: 0.8300\n",
      "Epoch 14/50\n",
      "25/25 [==============================] - 0s 16ms/step - loss: 0.0866 - acc: 0.9700 - val_loss: 0.5539 - val_acc: 0.8200\n",
      "Epoch 15/50\n",
      "25/25 [==============================] - 0s 17ms/step - loss: 0.0729 - acc: 0.9762 - val_loss: 0.5603 - val_acc: 0.8400\n",
      "Epoch 16/50\n",
      "25/25 [==============================] - 0s 16ms/step - loss: 0.0622 - acc: 0.9837 - val_loss: 0.6065 - val_acc: 0.8400\n",
      "Epoch 17/50\n",
      "25/25 [==============================] - 0s 16ms/step - loss: 0.0502 - acc: 0.9875 - val_loss: 0.6542 - val_acc: 0.8300\n",
      "Epoch 18/50\n",
      "25/25 [==============================] - 0s 18ms/step - loss: 0.0589 - acc: 0.9812 - val_loss: 0.6250 - val_acc: 0.8300\n",
      "Epoch 19/50\n",
      "25/25 [==============================] - 0s 16ms/step - loss: 0.0422 - acc: 0.9875 - val_loss: 0.6641 - val_acc: 0.8400\n",
      "Epoch 20/50\n",
      "25/25 [==============================] - 0s 18ms/step - loss: 0.0519 - acc: 0.9837 - val_loss: 0.6578 - val_acc: 0.8150\n",
      "Epoch 21/50\n",
      "25/25 [==============================] - 0s 16ms/step - loss: 0.0384 - acc: 0.9875 - val_loss: 0.6741 - val_acc: 0.8200\n",
      "Epoch 22/50\n",
      "25/25 [==============================] - 0s 17ms/step - loss: 0.0323 - acc: 0.9887 - val_loss: 0.6627 - val_acc: 0.8300\n",
      "Epoch 23/50\n",
      "25/25 [==============================] - 0s 18ms/step - loss: 0.0291 - acc: 0.9875 - val_loss: 0.7199 - val_acc: 0.8350\n",
      "Epoch 24/50\n",
      "25/25 [==============================] - ETA: 0s - loss: 0.0288 - acc: 0.9900\n",
      "Training accuracy above 99%...so training stopped...\n",
      "\n",
      "25/25 [==============================] - 0s 17ms/step - loss: 0.0288 - acc: 0.9900 - val_loss: 0.7171 - val_acc: 0.8300\n"
     ]
    },
    {
     "data": {
      "image/png": "[encoded data removed]",
      "text/plain": [
       "<Figure size 432x288 with 1 Axes>"
      ]
     },
     "metadata": {
      "needs_background": "light"
     },
     "output_type": "display_data"
    },
    {
     "data": {
      "image/png": "[encoded data removed]",
      "text/plain": [
       "<Figure size 432x288 with 1 Axes>"
      ]
     },
     "metadata": {
      "needs_background": "light"
     },
     "output_type": "display_data"
    }
   ],
   "source": [
    "myRNN = model.create_model_LSTM(input_dim, embedding_dim, embedding_matrix, input_len, trainable=True, n1=32, n2=5, d=0.25)\n",
    "myRNN.summary()\n",
    "\n",
    "history = myRNN.fit(X_train_padded, y_train, epochs=50, batch_size=32, validation_data=(X_test_padded, y_test), callbacks=[myCB], verbose=1)\n",
    "model.plot_curves(history)"
   ]
  },
  {
   "cell_type": "markdown",
   "metadata": {},
   "source": [
    "### Results:\n",
    "* We get a training accuracy of 99.00% and testing accuracy of 83.00%.\n",
    "* The training loss is 0.0288 and testing loss is 0.7171 ."
   ]
  },
  {
   "cell_type": "code",
   "execution_count": 91,
   "metadata": {},
   "outputs": [],
   "source": [
    "model.save_model(myRNN, \"Yelp/LSTM_n132_n25_d025_vacc83\")"
   ]
  },
  {
   "cell_type": "markdown",
   "metadata": {},
   "source": [
    "### Testing on Manually collected Data"
   ]
  },
  {
   "cell_type": "code",
   "execution_count": 109,
   "metadata": {},
   "outputs": [],
   "source": [
    "DNN = tf.keras.models.load_model(\"../models/DL/Yelp/DNN_n120_n25_kr0015_vacc82.h5\")\n",
    "CNN = tf.keras.models.load_model(\"../models/DL/Yelp/CNN_n132_k5_d025_kr002_vacc82.h5\")\n",
    "RNN = tf.keras.models.load_model(\"../models/DL/Yelp/LSTM_n132_n25_d025_vacc83.h5\")"
   ]
  },
  {
   "cell_type": "code",
   "execution_count": 125,
   "metadata": {},
   "outputs": [],
   "source": [
    "test_cases = [\"Lovely place in Deccan. To hangout with friends. You will encounter a lot of young crowd. The food is delicious. I tried the aglio olio which was perfectly made. And I had the spiced hot chocolate which was divine!\",\n",
    "             \"Everything was half cooked. I hate the taste. Not a single bite was eatable. Wastage of money. Seriously!!!\",\n",
    "             \"This place in pune serves delicious Italian cuisines! The ambience is just woww!The food also comes in good quantity and the staff is also really kind. This place is worth visiting!\",\n",
    "             \"Pasta ordered was complete fraud and tasteless. Shall never place order again. There was No sauce, it was complete dry and didn't even taste like pasta\",\n",
    "             \"Best cheese cake in town. The taste rolls on test buds. Texture is best. Cherry on top for jelly. Awesome flavor. Recommended.\",\n",
    "             \"I ordered pink sauce pasta and the delivery was obnoxious.There was no sauce , the pennes were dry . It was tasteless. Very bad experience. Wish for money back .\"]"
   ]
  },
  {
   "cell_type": "code",
   "execution_count": 126,
   "metadata": {},
   "outputs": [],
   "source": [
    "test_input = []\n",
    "for test in test_cases:\n",
    "    instance = tp.preprocess_and_tokenize_test_case(tokenizer, test, padding_type, truncating_type, pad_len)\n",
    "    test_input.append(instance)"
   ]
  },
  {
   "cell_type": "code",
   "execution_count": 127,
   "metadata": {},
   "outputs": [
    {
     "name": "stdout",
     "output_type": "stream",
     "text": [
      "label is :positive, and it's confidence is: 0.9870549440383911\n",
      "label is :negative, and it's confidence is: 0.021456914022564888\n",
      "label is :positive, and it's confidence is: 0.9929197430610657\n",
      "label is :negative, and it's confidence is: 0.021196398884058\n",
      "label is :positive, and it's confidence is: 0.9724133014678955\n",
      "label is :negative, and it's confidence is: 0.030055303126573563\n"
     ]
    }
   ],
   "source": [
    "for x in test_input:\n",
    "    label, confidence = model.predict_label(DNN.predict(x))\n",
    "    print(\"label is :{}, and it's confidence is: {}\".format(label, confidence))"
   ]
  },
  {
   "cell_type": "code",
   "execution_count": 128,
   "metadata": {},
   "outputs": [
    {
     "name": "stdout",
     "output_type": "stream",
     "text": [
      "label is :positive, and it's confidence is: 0.9215713739395142\n",
      "label is :negative, and it's confidence is: 0.004717950709164143\n",
      "label is :positive, and it's confidence is: 0.9178631901741028\n",
      "label is :negative, and it's confidence is: 0.018908189609646797\n",
      "label is :positive, and it's confidence is: 0.9776679277420044\n",
      "label is :negative, and it's confidence is: 0.020787527784705162\n"
     ]
    }
   ],
   "source": [
    "for x in test_input:\n",
    "    label, confidence = model.predict_label(CNN.predict(x))\n",
    "    print(\"label is :{}, and it's confidence is: {}\".format(label, confidence))"
   ]
  },
  {
   "cell_type": "code",
   "execution_count": 129,
   "metadata": {},
   "outputs": [
    {
     "name": "stdout",
     "output_type": "stream",
     "text": [
      "label is :positive, and it's confidence is: 0.9996851682662964\n",
      "label is :negative, and it's confidence is: 0.0001761332678142935\n",
      "label is :positive, and it's confidence is: 0.9996843338012695\n",
      "label is :negative, and it's confidence is: 0.004020556807518005\n",
      "label is :positive, and it's confidence is: 0.9995191097259521\n",
      "label is :negative, and it's confidence is: 0.00037337964749895036\n"
     ]
    }
   ],
   "source": [
    "for x in test_input:\n",
    "    label, confidence = model.predict_label(RNN.predict(x))\n",
    "    print(\"label is :{}, and it's confidence is: {}\".format(label, confidence))"
   ]
  },
  {
   "cell_type": "markdown",
   "metadata": {},
   "source": [
    "## Conclusion:\n",
    "* All the three model can successfully classify a product review as positive or negative.\n",
    "* The LSTM model seems to be the best one as it's output labels give the highest confidence.\n",
    "* We can also see how a CNN, which is mostly used in computer vision tasks can be successfully used for text classification."
   ]
  }
 ],
 "metadata": {
  "kernelspec": {
   "display_name": "Python 3",
   "language": "python",
   "name": "python3"
  },
  "language_info": {
   "codemirror_mode": {
    "name": "ipython",
    "version": 3
   },
   "file_extension": ".py",
   "mimetype": "text/x-python",
   "name": "python",
   "nbconvert_exporter": "python",
   "pygments_lexer": "ipython3",
   "version": "3.7.3"
  }
 },
 "nbformat": 4,
 "nbformat_minor": 2
}
