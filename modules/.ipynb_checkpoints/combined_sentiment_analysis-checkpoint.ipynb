{
 "cells": [
  {
   "cell_type": "code",
   "execution_count": 1,
   "metadata": {
    "scrolled": true
   },
   "outputs": [
    {
     "name": "stderr",
     "output_type": "stream",
     "text": [
      "Using TensorFlow backend.\n"
     ]
    }
   ],
   "source": [
    "from TextPreprocessing import TextPreprocessing\n",
    "from sklearn.model_selection import train_test_split\n",
    "import tensorflow as tf\n",
    "from sklearn.model_selection import GridSearchCV, cross_val_score\n",
    "from keras.wrappers.scikit_learn import KerasClassifier\n",
    "from tensorflow import keras\n",
    "from tensorflow.keras.preprocessing.text import Tokenizer\n",
    "from tensorflow.keras.preprocessing.sequence import pad_sequences\n",
    "from keras.regularizers import l2\n",
    "from tensorflow.keras import Sequential\n",
    "from tensorflow.keras.layers import Embedding, Dense, LSTM, Dropout, Flatten, Conv1D, MaxPooling1D, GlobalMaxPooling1D, GlobalAveragePooling1D, Bidirectional\n",
    "import numpy as np\n",
    "import matplotlib.pyplot as plt\n",
    "import seaborn as sns"
   ]
  },
  {
   "cell_type": "code",
   "execution_count": 2,
   "metadata": {},
   "outputs": [],
   "source": [
    "max_words = 100000\n",
    "oov_word = \"<00V>\"\n",
    "padding_type = \"post\"\n",
    "truncating_type = \"post\"\n",
    "pad_len = 100"
   ]
  },
  {
   "cell_type": "code",
   "execution_count": 3,
   "metadata": {},
   "outputs": [],
   "source": [
    "class myCallbacks(tf.keras.callbacks.Callback):\n",
    "    def on_epoch_end(self, epoch, logs={}):\n",
    "        if(logs.get('acc')>0.99):\n",
    "            print(\"\\nTraining accuracy above 99%...so training stopped...\\n\")\n",
    "            self.model.stop_training = True\n",
    "            \n",
    "myCB = myCallbacks()"
   ]
  },
  {
   "cell_type": "code",
   "execution_count": 12,
   "metadata": {},
   "outputs": [],
   "source": [
    "datasets=['Amazon', 'IMDB', \"yelp\"]\n",
    "corpus=[]\n",
    "labels=[]\n",
    "\n",
    "for d in datasets:\n",
    "    tp = TextPreprocessing(d)\n",
    "    c, l = tp.get_data()\n",
    "    for x in c:\n",
    "        corpus.append(x)\n",
    "    for y in l:\n",
    "        labels.append(y)"
   ]
  },
  {
   "cell_type": "code",
   "execution_count": 17,
   "metadata": {},
   "outputs": [],
   "source": [
    "X = []\n",
    "for c in corpus:\n",
    "    X.append(tp.preprocess_text(c))"
   ]
  },
  {
   "cell_type": "code",
   "execution_count": 25,
   "metadata": {},
   "outputs": [],
   "source": [
    "length = []\n",
    "for x in X:\n",
    "    length.append(len(x))\n",
    "    \n",
    "length.sort(reverse=True)"
   ]
  },
  {
   "cell_type": "code",
   "execution_count": 26,
   "metadata": {},
   "outputs": [
    {
     "data": {
      "image/png": "[encoded data removed]",
      "text/plain": [
       "<Figure size 432x288 with 1 Axes>"
      ]
     },
     "metadata": {
      "needs_background": "light"
     },
     "output_type": "display_data"
    }
   ],
   "source": [
    "sns.distplot(length);"
   ]
  },
  {
   "cell_type": "code",
   "execution_count": 30,
   "metadata": {},
   "outputs": [
    {
     "data": {
      "text/plain": [
       "39.20033333333333"
      ]
     },
     "execution_count": 30,
     "metadata": {},
     "output_type": "execute_result"
    }
   ],
   "source": [
    "np.array(length).mean()"
   ]
  },
  {
   "cell_type": "code",
   "execution_count": 31,
   "metadata": {},
   "outputs": [],
   "source": [
    "#Splitting into training(80%) and testing data(20%)\n",
    "X_train, X_test, y_train, y_test = train_test_split(X, np.array(labels, dtype=np.int32), test_size=0.20, random_state=42, shuffle=True)"
   ]
  },
  {
   "cell_type": "code",
   "execution_count": 32,
   "metadata": {},
   "outputs": [],
   "source": [
    "y_train = y_train.reshape(y_train.shape[0], -1)\n",
    "y_test = y_test.reshape(y_test.shape[0], -1)"
   ]
  },
  {
   "cell_type": "code",
   "execution_count": 33,
   "metadata": {},
   "outputs": [],
   "source": [
    "tokenizer, vocab_size, X_train_padded, X_test_padded = tp.tokenizer_and_pad(X_train, X_test, max_words, oov_word, padding_type, truncating_type, pad_len)"
   ]
  },
  {
   "cell_type": "code",
   "execution_count": 34,
   "metadata": {},
   "outputs": [
    {
     "name": "stdout",
     "output_type": "stream",
     "text": [
      "<class 'numpy.ndarray'>\n",
      "<class 'numpy.ndarray'>\n",
      "<class 'numpy.ndarray'>\n",
      "<class 'numpy.ndarray'>\n"
     ]
    }
   ],
   "source": [
    "print(type(X_train_padded))\n",
    "print(type(y_train))\n",
    "print(type(X_test_padded))\n",
    "print(type(y_test[0]))"
   ]
  },
  {
   "cell_type": "code",
   "execution_count": 35,
   "metadata": {},
   "outputs": [
    {
     "name": "stdout",
     "output_type": "stream",
     "text": [
      "(2400, 100)\n",
      "(2400, 1)\n",
      "(600, 100)\n",
      "(600, 1)\n"
     ]
    }
   ],
   "source": [
    "print(X_train_padded.shape)\n",
    "print(y_train.shape)\n",
    "print(X_test_padded.shape)\n",
    "print(y_test.shape)"
   ]
  },
  {
   "cell_type": "code",
   "execution_count": 36,
   "metadata": {},
   "outputs": [],
   "source": [
    "embedding_matrix = tp.get_embedding_metrix(vocab_size, tokenizer)"
   ]
  },
  {
   "cell_type": "code",
   "execution_count": 37,
   "metadata": {},
   "outputs": [
    {
     "name": "stdout",
     "output_type": "stream",
     "text": [
      "(3531, 100)\n"
     ]
    }
   ],
   "source": [
    "print(embedding_matrix.shape)"
   ]
  },
  {
   "cell_type": "code",
   "execution_count": 38,
   "metadata": {},
   "outputs": [],
   "source": [
    "input_dim = vocab_size\n",
    "embedding_dim = 100\n",
    "input_length = pad_len"
   ]
  },
  {
   "cell_type": "code",
   "execution_count": 69,
   "metadata": {},
   "outputs": [],
   "source": [
    "def create_model_DNN(n1=128, n2=64, d1=0.0, d2=0.0, lr=0.001, kr=None, br=None):\n",
    "    Simple = Sequential()\n",
    "    embedding_layer = Simple.add(Embedding(input_dim=input_dim, output_dim = embedding_dim, weights=[embedding_matrix], input_length=pad_len , trainable=True))\n",
    "    Simple.add(GlobalMaxPooling1D())\n",
    "    Simple.add(Dense(n1, kernel_regularizer=kr, bias_regularizer=br, activation='relu'))\n",
    "    Simple.add(Dropout(d1))\n",
    "    Simple.add(Dense(n2, kernel_regularizer=kr, bias_regularizer=br, activation='relu'))\n",
    "    Simple.add(Dropout(d2))\n",
    "    Simple.add(Dense(1, activation='sigmoid'))\n",
    "    myAdam = keras.optimizers.Adam(learning_rate=lr)\n",
    "    Simple.compile(optimizer=myAdam, loss=\"binary_crossentropy\", metrics=['acc'])\n",
    "    \n",
    "    return Simple"
   ]
  },
  {
   "cell_type": "code",
   "execution_count": 81,
   "metadata": {},
   "outputs": [
    {
     "name": "stdout",
     "output_type": "stream",
     "text": [
      "Model: \"sequential_12\"\n",
      "_________________________________________________________________\n",
      "Layer (type)                 Output Shape              Param #   \n",
      "=================================================================\n",
      "embedding_12 (Embedding)     (None, 100, 100)          353100    \n",
      "_________________________________________________________________\n",
      "global_max_pooling1d_11 (Glo (None, 100)               0         \n",
      "_________________________________________________________________\n",
      "dense_36 (Dense)             (None, 128)               12928     \n",
      "_________________________________________________________________\n",
      "dropout_21 (Dropout)         (None, 128)               0         \n",
      "_________________________________________________________________\n",
      "dense_37 (Dense)             (None, 64)                8256      \n",
      "_________________________________________________________________\n",
      "dropout_22 (Dropout)         (None, 64)                0         \n",
      "_________________________________________________________________\n",
      "dense_38 (Dense)             (None, 1)                 65        \n",
      "=================================================================\n",
      "Total params: 374,349\n",
      "Trainable params: 374,349\n",
      "Non-trainable params: 0\n",
      "_________________________________________________________________\n"
     ]
    }
   ],
   "source": [
    "Simple1 = create_model_DNN(d1=0.2, d2=0.2, kr=l2(0.01), br=l2(0.015))\n",
    "Simple1.summary()"
   ]
  },
  {
   "cell_type": "code",
   "execution_count": 82,
   "metadata": {
    "scrolled": true
   },
   "outputs": [
    {
     "name": "stdout",
     "output_type": "stream",
     "text": [
      "Epoch 1/40\n",
      "10/10 [==============================] - 0s 35ms/step - loss: 2.5364 - acc: 0.5283 - val_loss: 2.3552 - val_acc: 0.6150\n",
      "Epoch 2/40\n",
      "10/10 [==============================] - 0s 27ms/step - loss: 2.2555 - acc: 0.5846 - val_loss: 2.0988 - val_acc: 0.6850\n",
      "Epoch 3/40\n",
      "10/10 [==============================] - 0s 27ms/step - loss: 2.0068 - acc: 0.6438 - val_loss: 1.8694 - val_acc: 0.7067\n",
      "Epoch 4/40\n",
      "10/10 [==============================] - 0s 24ms/step - loss: 1.7872 - acc: 0.6796 - val_loss: 1.6713 - val_acc: 0.7117\n",
      "Epoch 5/40\n",
      "10/10 [==============================] - 0s 23ms/step - loss: 1.5870 - acc: 0.7075 - val_loss: 1.4845 - val_acc: 0.7367\n",
      "Epoch 6/40\n",
      "10/10 [==============================] - 0s 25ms/step - loss: 1.4265 - acc: 0.7208 - val_loss: 1.3269 - val_acc: 0.7567\n",
      "Epoch 7/40\n",
      "10/10 [==============================] - 0s 26ms/step - loss: 1.2693 - acc: 0.7508 - val_loss: 1.1930 - val_acc: 0.7733\n",
      "Epoch 8/40\n",
      "10/10 [==============================] - 0s 23ms/step - loss: 1.1290 - acc: 0.7767 - val_loss: 1.0816 - val_acc: 0.7883\n",
      "Epoch 9/40\n",
      "10/10 [==============================] - 0s 24ms/step - loss: 1.0061 - acc: 0.8029 - val_loss: 0.9893 - val_acc: 0.7967\n",
      "Epoch 10/40\n",
      "10/10 [==============================] - 0s 25ms/step - loss: 0.9055 - acc: 0.8200 - val_loss: 0.9130 - val_acc: 0.8000\n",
      "Epoch 11/40\n",
      "10/10 [==============================] - 0s 28ms/step - loss: 0.8123 - acc: 0.8388 - val_loss: 0.8519 - val_acc: 0.7900\n",
      "Epoch 12/40\n",
      "10/10 [==============================] - 0s 24ms/step - loss: 0.7267 - acc: 0.8675 - val_loss: 0.8002 - val_acc: 0.8000\n",
      "Epoch 13/40\n",
      "10/10 [==============================] - 0s 24ms/step - loss: 0.6484 - acc: 0.8821 - val_loss: 0.7592 - val_acc: 0.8150\n",
      "Epoch 14/40\n",
      "10/10 [==============================] - 0s 29ms/step - loss: 0.5863 - acc: 0.8958 - val_loss: 0.7285 - val_acc: 0.8100\n",
      "Epoch 15/40\n",
      "10/10 [==============================] - 0s 28ms/step - loss: 0.5373 - acc: 0.9067 - val_loss: 0.7106 - val_acc: 0.8100\n",
      "Epoch 16/40\n",
      "10/10 [==============================] - 0s 24ms/step - loss: 0.4878 - acc: 0.9225 - val_loss: 0.6761 - val_acc: 0.8017\n",
      "Epoch 17/40\n",
      "10/10 [==============================] - 0s 25ms/step - loss: 0.4406 - acc: 0.9308 - val_loss: 0.6649 - val_acc: 0.8083\n",
      "Epoch 18/40\n",
      "10/10 [==============================] - 0s 30ms/step - loss: 0.4028 - acc: 0.9488 - val_loss: 0.6465 - val_acc: 0.8067\n",
      "Epoch 19/40\n",
      "10/10 [==============================] - 0s 23ms/step - loss: 0.3694 - acc: 0.9513 - val_loss: 0.6400 - val_acc: 0.8133\n",
      "Epoch 20/40\n",
      "10/10 [==============================] - 0s 26ms/step - loss: 0.3409 - acc: 0.9588 - val_loss: 0.6310 - val_acc: 0.8067\n",
      "Epoch 21/40\n",
      "10/10 [==============================] - 0s 28ms/step - loss: 0.3192 - acc: 0.9658 - val_loss: 0.6221 - val_acc: 0.8050\n",
      "Epoch 22/40\n",
      "10/10 [==============================] - 0s 30ms/step - loss: 0.2962 - acc: 0.9717 - val_loss: 0.6190 - val_acc: 0.8067\n",
      "Epoch 23/40\n",
      "10/10 [==============================] - 0s 25ms/step - loss: 0.2757 - acc: 0.9737 - val_loss: 0.6280 - val_acc: 0.8033\n",
      "Epoch 24/40\n",
      "10/10 [==============================] - 0s 31ms/step - loss: 0.2598 - acc: 0.9775 - val_loss: 0.6109 - val_acc: 0.8100\n",
      "Epoch 25/40\n",
      "10/10 [==============================] - 0s 28ms/step - loss: 0.2408 - acc: 0.9812 - val_loss: 0.6064 - val_acc: 0.8083\n",
      "Epoch 26/40\n",
      "10/10 [==============================] - 0s 24ms/step - loss: 0.2326 - acc: 0.9817 - val_loss: 0.6091 - val_acc: 0.8000\n",
      "Epoch 27/40\n",
      "10/10 [==============================] - 0s 25ms/step - loss: 0.2160 - acc: 0.9871 - val_loss: 0.6031 - val_acc: 0.8100\n",
      "Epoch 28/40\n",
      "10/10 [==============================] - 0s 28ms/step - loss: 0.2103 - acc: 0.9862 - val_loss: 0.6018 - val_acc: 0.8067\n",
      "Epoch 29/40\n",
      "10/10 [==============================] - 0s 33ms/step - loss: 0.1981 - acc: 0.9892 - val_loss: 0.5978 - val_acc: 0.8050\n",
      "Epoch 30/40\n",
      "10/10 [==============================] - 0s 28ms/step - loss: 0.1897 - acc: 0.9896 - val_loss: 0.5966 - val_acc: 0.8033\n",
      "Epoch 31/40\n",
      " 9/10 [==========================>...] - ETA: 0s - loss: 0.1761 - acc: 0.9926\n",
      "Training accuracy above 99%...so training stopped...\n",
      "\n",
      "10/10 [==============================] - 0s 28ms/step - loss: 0.1781 - acc: 0.9925 - val_loss: 0.6035 - val_acc: 0.8017\n"
     ]
    }
   ],
   "source": [
    "history = Simple1.fit(X_train_padded, y_train, epochs=40, batch_size=256, verbose=1, validation_data = (X_test_padded, y_test), callbacks=[myCB])"
   ]
  },
  {
   "cell_type": "code",
   "execution_count": 83,
   "metadata": {},
   "outputs": [
    {
     "data": {
      "image/png": "[encoded data removed]",
      "text/plain": [
       "<Figure size 432x288 with 1 Axes>"
      ]
     },
     "metadata": {
      "needs_background": "light"
     },
     "output_type": "display_data"
    },
    {
     "data": {
      "image/png": "[encoded data removed]",
      "text/plain": [
       "<Figure size 432x288 with 1 Axes>"
      ]
     },
     "metadata": {
      "needs_background": "light"
     },
     "output_type": "display_data"
    }
   ],
   "source": [
    "plt.plot(history.history['acc'])\n",
    "plt.plot(history.history['val_acc'])\n",
    "\n",
    "plt.title('model accuracy')\n",
    "plt.ylabel('accuracy')\n",
    "plt.xlabel('epoch')\n",
    "plt.legend(['train','validation'], loc='upper left')\n",
    "plt.show()\n",
    "\n",
    "plt.plot(history.history['loss'])\n",
    "plt.plot(history.history['val_loss'])\n",
    "\n",
    "plt.title('model loss')\n",
    "plt.ylabel('loss')\n",
    "plt.xlabel('epoch')\n",
    "plt.legend(['train','validation'], loc='upper left')\n",
    "plt.show()"
   ]
  },
  {
   "cell_type": "code",
   "execution_count": 90,
   "metadata": {},
   "outputs": [],
   "source": [
    "def create_model_CNN(neurons=32, ksize=3, d=0.3, pad='valid', kr=None, br=None, lr=0.001):\n",
    "    myCNN = Sequential()\n",
    "    myCNN.add(Embedding(input_dim=input_dim, output_dim = embedding_dim, weights=[embedding_matrix], input_length=pad_len , trainable=True))\n",
    "    myCNN.add(Conv1D(neurons, kernel_size=ksize, padding=pad, kernel_regularizer=kr, bias_regularizer=br, activation='relu'))\n",
    "    myCNN.add(GlobalMaxPooling1D())\n",
    "    myCNN.add(Dropout(d))\n",
    "    myCNN.add(Dense(1, activation='sigmoid'))\n",
    "    \n",
    "    myAdam = keras.optimizers.Adam(learning_rate=lr)\n",
    "    myCNN.compile(optimizer=myAdam, loss=\"binary_crossentropy\", metrics=['acc'])\n",
    "    \n",
    "    return myCNN"
   ]
  },
  {
   "cell_type": "code",
   "execution_count": 91,
   "metadata": {},
   "outputs": [
    {
     "name": "stdout",
     "output_type": "stream",
     "text": [
      "Model: \"sequential_15\"\n",
      "_________________________________________________________________\n",
      "Layer (type)                 Output Shape              Param #   \n",
      "=================================================================\n",
      "embedding_15 (Embedding)     (None, 100, 100)          353100    \n",
      "_________________________________________________________________\n",
      "conv1d_3 (Conv1D)            (None, 100, 128)          38528     \n",
      "_________________________________________________________________\n",
      "global_max_pooling1d_14 (Glo (None, 128)               0         \n",
      "_________________________________________________________________\n",
      "dropout_25 (Dropout)         (None, 128)               0         \n",
      "_________________________________________________________________\n",
      "dense_41 (Dense)             (None, 1)                 129       \n",
      "=================================================================\n",
      "Total params: 391,757\n",
      "Trainable params: 391,757\n",
      "Non-trainable params: 0\n",
      "_________________________________________________________________\n"
     ]
    }
   ],
   "source": [
    "myCNN = create_model_CNN(neurons=128, pad='same', kr=l2(0.015), br=l2(0.015), lr=0.001)\n",
    "myCNN.summary()"
   ]
  },
  {
   "cell_type": "code",
   "execution_count": 92,
   "metadata": {},
   "outputs": [
    {
     "name": "stdout",
     "output_type": "stream",
     "text": [
      "Epoch 1/40\n",
      "75/75 [==============================] - 2s 22ms/step - loss: 1.6588 - acc: 0.6917 - val_loss: 1.1004 - val_acc: 0.8050\n",
      "Epoch 2/40\n",
      "75/75 [==============================] - 2s 22ms/step - loss: 0.8588 - acc: 0.8317 - val_loss: 0.6971 - val_acc: 0.8350\n",
      "Epoch 3/40\n",
      "75/75 [==============================] - 5s 71ms/step - loss: 0.5632 - acc: 0.8858 - val_loss: 0.5377 - val_acc: 0.8517\n",
      "Epoch 4/40\n",
      "75/75 [==============================] - 2s 32ms/step - loss: 0.4460 - acc: 0.8979 - val_loss: 0.4687 - val_acc: 0.8583\n",
      "Epoch 5/40\n",
      "75/75 [==============================] - 3s 33ms/step - loss: 0.3530 - acc: 0.9375 - val_loss: 0.4369 - val_acc: 0.8533 los\n",
      "Epoch 6/40\n",
      "75/75 [==============================] - 2s 32ms/step - loss: 0.3065 - acc: 0.9408 - val_loss: 0.4093 - val_acc: 0.8600\n",
      "Epoch 7/40\n",
      "75/75 [==============================] - 2s 31ms/step - loss: 0.2653 - acc: 0.9571 - val_loss: 0.3970 - val_acc: 0.8533\n",
      "Epoch 8/40\n",
      "75/75 [==============================] - 2s 29ms/step - loss: 0.2361 - acc: 0.9621 - val_loss: 0.3968 - val_acc: 0.8533\n",
      "Epoch 9/40\n",
      "75/75 [==============================] - 2s 29ms/step - loss: 0.2110 - acc: 0.9696 - val_loss: 0.3891 - val_acc: 0.8500\n",
      "Epoch 10/40\n",
      "75/75 [==============================] - 2s 27ms/step - loss: 0.1931 - acc: 0.9737 - val_loss: 0.3778 - val_acc: 0.8617\n",
      "Epoch 11/40\n",
      "75/75 [==============================] - 5s 62ms/step - loss: 0.1781 - acc: 0.9775 - val_loss: 0.3840 - val_acc: 0.8617\n",
      "Epoch 12/40\n",
      "75/75 [==============================] - 3s 35ms/step - loss: 0.1601 - acc: 0.9796 - val_loss: 0.3785 - val_acc: 0.8600\n",
      "Epoch 13/40\n",
      "75/75 [==============================] - 3s 34ms/step - loss: 0.1464 - acc: 0.9871 - val_loss: 0.4027 - val_acc: 0.8567\n",
      "Epoch 14/40\n",
      "75/75 [==============================] - 2s 32ms/step - loss: 0.1363 - acc: 0.9850 - val_loss: 0.3711 - val_acc: 0.8633\n",
      "Epoch 15/40\n",
      "75/75 [==============================] - 2s 31ms/step - loss: 0.1307 - acc: 0.9854 - val_loss: 0.4190 - val_acc: 0.8533\n",
      "Epoch 16/40\n",
      "75/75 [==============================] - 2s 31ms/step - loss: 0.1222 - acc: 0.9875 - val_loss: 0.3717 - val_acc: 0.85500 - acc: 0. - ETA: 0s - loss: 0.1208 - acc: 0.\n",
      "Epoch 17/40\n",
      "75/75 [==============================] - 2s 29ms/step - loss: 0.1131 - acc: 0.9871 - val_loss: 0.3625 - val_acc: 0.8667\n",
      "Epoch 18/40\n",
      "74/75 [============================>.] - ETA: 0s - loss: 0.1070 - acc: 0.9907\n",
      "Training accuracy above 99%...so training stopped...\n",
      "\n",
      "75/75 [==============================] - 2s 29ms/step - loss: 0.1079 - acc: 0.9904 - val_loss: 0.3798 - val_acc: 0.8567\n"
     ]
    }
   ],
   "source": [
    "history = myCNN.fit(X_train_padded, y_train, epochs=40, batch_size=32, callbacks=[myCB], validation_data = (X_test_padded, y_test), verbose=1)"
   ]
  },
  {
   "cell_type": "code",
   "execution_count": 93,
   "metadata": {},
   "outputs": [
    {
     "data": {
      "image/png": "[encoded data removed]",
      "text/plain": [
       "<Figure size 432x288 with 1 Axes>"
      ]
     },
     "metadata": {
      "needs_background": "light"
     },
     "output_type": "display_data"
    },
    {
     "data": {
      "image/png": "[encoded data removed]",
      "text/plain": [
       "<Figure size 432x288 with 1 Axes>"
      ]
     },
     "metadata": {
      "needs_background": "light"
     },
     "output_type": "display_data"
    }
   ],
   "source": [
    "plt.plot(history.history['acc'])\n",
    "plt.plot(history.history['val_acc'])\n",
    "\n",
    "plt.title('model accuracy')\n",
    "plt.ylabel('accuracy')\n",
    "plt.xlabel('epoch')\n",
    "plt.legend(['train','validation'], loc='upper left')\n",
    "plt.show()\n",
    "\n",
    "plt.plot(history.history['loss'])\n",
    "plt.plot(history.history['val_loss'])\n",
    "\n",
    "plt.title('model loss')\n",
    "plt.ylabel('loss')\n",
    "plt.xlabel('epoch')\n",
    "plt.legend(['train','validation'], loc='upper left')\n",
    "plt.show()"
   ]
  },
  {
   "cell_type": "code",
   "execution_count": 118,
   "metadata": {},
   "outputs": [],
   "source": [
    "def create_model_LSTM(lstm1=100, kr=l2(0.01), br=l2(0.015), lr=0.001):\n",
    "    myRNN = Sequential()\n",
    "    myRNN.add(Embedding(input_dim=input_dim, output_dim = embedding_dim, weights=[embedding_matrix], input_length=pad_len , trainable=True))\n",
    "    myRNN.add(Bidirectional(LSTM(64, dropout=0.2, recurrent_dropout=0.2, activation='relu', return_sequences=True)))\n",
    "    myRNN.add(Bidirectional(LSTM(32, dropout=0.2, recurrent_dropout=0.2, activation='relu')))\n",
    "    myRNN.add(Dense(1, activation='sigmoid'))\n",
    "    \n",
    "    myAdam = keras.optimizers.Adam(learning_rate=lr)\n",
    "    myRNN.compile(optimizer=myAdam, loss=\"binary_crossentropy\", metrics=['acc'])\n",
    "    \n",
    "    return myRNN"
   ]
  },
  {
   "cell_type": "code",
   "execution_count": 119,
   "metadata": {},
   "outputs": [
    {
     "name": "stdout",
     "output_type": "stream",
     "text": [
      "Model: \"sequential_25\"\n",
      "_________________________________________________________________\n",
      "Layer (type)                 Output Shape              Param #   \n",
      "=================================================================\n",
      "embedding_25 (Embedding)     (None, 100, 100)          353100    \n",
      "_________________________________________________________________\n",
      "bidirectional_16 (Bidirectio (None, 100, 128)          84480     \n",
      "_________________________________________________________________\n",
      "bidirectional_17 (Bidirectio (None, 64)                41216     \n",
      "_________________________________________________________________\n",
      "dense_47 (Dense)             (None, 1)                 65        \n",
      "=================================================================\n",
      "Total params: 478,861\n",
      "Trainable params: 478,861\n",
      "Non-trainable params: 0\n",
      "_________________________________________________________________\n"
     ]
    }
   ],
   "source": [
    "myRNN = create_model_LSTM()\n",
    "myRNN.summary()"
   ]
  },
  {
   "cell_type": "code",
   "execution_count": 120,
   "metadata": {},
   "outputs": [
    {
     "name": "stdout",
     "output_type": "stream",
     "text": [
      "Epoch 1/30\n",
      "75/75 [==============================] - 33s 439ms/step - loss: 0.6050 - acc: 0.7083 - val_loss: 0.4814 - val_acc: 0.7817\n",
      "Epoch 2/30\n",
      "75/75 [==============================] - 34s 453ms/step - loss: 19775055872.0000 - acc: 0.7287 - val_loss: 8483.0186 - val_acc: 0.7800\n",
      "Epoch 3/30\n",
      "75/75 [==============================] - 33s 443ms/step - loss: 106670.7500 - acc: 0.8183 - val_loss: 909693.0000 - val_acc: 0.7933\n",
      "Epoch 4/30\n",
      "75/75 [==============================] - ETA: 0s - loss: 402875.0938 - acc: 0.8438"
     ]
    },
    {
     "ename": "KeyboardInterrupt",
     "evalue": "",
     "output_type": "error",
     "traceback": [
      "\u001b[1;31m---------------------------------------------------------------------------\u001b[0m",
      "\u001b[1;31mKeyboardInterrupt\u001b[0m                         Traceback (most recent call last)",
      "\u001b[1;32m<ipython-input-120-e980620e85da>\u001b[0m in \u001b[0;36m<module>\u001b[1;34m\u001b[0m\n\u001b[1;32m----> 1\u001b[1;33m \u001b[0mhistory\u001b[0m \u001b[1;33m=\u001b[0m \u001b[0mmyRNN\u001b[0m\u001b[1;33m.\u001b[0m\u001b[0mfit\u001b[0m\u001b[1;33m(\u001b[0m\u001b[0mX_train_padded\u001b[0m\u001b[1;33m,\u001b[0m \u001b[0my_train\u001b[0m\u001b[1;33m,\u001b[0m \u001b[0mepochs\u001b[0m\u001b[1;33m=\u001b[0m\u001b[1;36m30\u001b[0m\u001b[1;33m,\u001b[0m \u001b[0mbatch_size\u001b[0m\u001b[1;33m=\u001b[0m\u001b[1;36m32\u001b[0m\u001b[1;33m,\u001b[0m \u001b[0mcallbacks\u001b[0m\u001b[1;33m=\u001b[0m\u001b[1;33m[\u001b[0m\u001b[0mmyCB\u001b[0m\u001b[1;33m]\u001b[0m\u001b[1;33m,\u001b[0m \u001b[0mvalidation_data\u001b[0m \u001b[1;33m=\u001b[0m \u001b[1;33m(\u001b[0m\u001b[0mX_test_padded\u001b[0m\u001b[1;33m,\u001b[0m \u001b[0my_test\u001b[0m\u001b[1;33m)\u001b[0m\u001b[1;33m,\u001b[0m \u001b[0mverbose\u001b[0m\u001b[1;33m=\u001b[0m\u001b[1;36m1\u001b[0m\u001b[1;33m)\u001b[0m\u001b[1;33m\u001b[0m\u001b[1;33m\u001b[0m\u001b[0m\n\u001b[0m",
      "\u001b[1;32m~\\AppData\\Roaming\\Python\\Python37\\site-packages\\tensorflow\\python\\keras\\engine\\training.py\u001b[0m in \u001b[0;36m_method_wrapper\u001b[1;34m(self, *args, **kwargs)\u001b[0m\n\u001b[0;32m     64\u001b[0m   \u001b[1;32mdef\u001b[0m \u001b[0m_method_wrapper\u001b[0m\u001b[1;33m(\u001b[0m\u001b[0mself\u001b[0m\u001b[1;33m,\u001b[0m \u001b[1;33m*\u001b[0m\u001b[0margs\u001b[0m\u001b[1;33m,\u001b[0m \u001b[1;33m**\u001b[0m\u001b[0mkwargs\u001b[0m\u001b[1;33m)\u001b[0m\u001b[1;33m:\u001b[0m\u001b[1;33m\u001b[0m\u001b[1;33m\u001b[0m\u001b[0m\n\u001b[0;32m     65\u001b[0m     \u001b[1;32mif\u001b[0m \u001b[1;32mnot\u001b[0m \u001b[0mself\u001b[0m\u001b[1;33m.\u001b[0m\u001b[0m_in_multi_worker_mode\u001b[0m\u001b[1;33m(\u001b[0m\u001b[1;33m)\u001b[0m\u001b[1;33m:\u001b[0m  \u001b[1;31m# pylint: disable=protected-access\u001b[0m\u001b[1;33m\u001b[0m\u001b[1;33m\u001b[0m\u001b[0m\n\u001b[1;32m---> 66\u001b[1;33m       \u001b[1;32mreturn\u001b[0m \u001b[0mmethod\u001b[0m\u001b[1;33m(\u001b[0m\u001b[0mself\u001b[0m\u001b[1;33m,\u001b[0m \u001b[1;33m*\u001b[0m\u001b[0margs\u001b[0m\u001b[1;33m,\u001b[0m \u001b[1;33m**\u001b[0m\u001b[0mkwargs\u001b[0m\u001b[1;33m)\u001b[0m\u001b[1;33m\u001b[0m\u001b[1;33m\u001b[0m\u001b[0m\n\u001b[0m\u001b[0;32m     67\u001b[0m \u001b[1;33m\u001b[0m\u001b[0m\n\u001b[0;32m     68\u001b[0m     \u001b[1;31m# Running inside `run_distribute_coordinator` already.\u001b[0m\u001b[1;33m\u001b[0m\u001b[1;33m\u001b[0m\u001b[1;33m\u001b[0m\u001b[0m\n",
      "\u001b[1;32m~\\AppData\\Roaming\\Python\\Python37\\site-packages\\tensorflow\\python\\keras\\engine\\training.py\u001b[0m in \u001b[0;36mfit\u001b[1;34m(self, x, y, batch_size, epochs, verbose, callbacks, validation_split, validation_data, shuffle, class_weight, sample_weight, initial_epoch, steps_per_epoch, validation_steps, validation_batch_size, validation_freq, max_queue_size, workers, use_multiprocessing)\u001b[0m\n\u001b[0;32m    870\u001b[0m               \u001b[0mworkers\u001b[0m\u001b[1;33m=\u001b[0m\u001b[0mworkers\u001b[0m\u001b[1;33m,\u001b[0m\u001b[1;33m\u001b[0m\u001b[1;33m\u001b[0m\u001b[0m\n\u001b[0;32m    871\u001b[0m               \u001b[0muse_multiprocessing\u001b[0m\u001b[1;33m=\u001b[0m\u001b[0muse_multiprocessing\u001b[0m\u001b[1;33m,\u001b[0m\u001b[1;33m\u001b[0m\u001b[1;33m\u001b[0m\u001b[0m\n\u001b[1;32m--> 872\u001b[1;33m               return_dict=True)\n\u001b[0m\u001b[0;32m    873\u001b[0m           \u001b[0mval_logs\u001b[0m \u001b[1;33m=\u001b[0m \u001b[1;33m{\u001b[0m\u001b[1;34m'val_'\u001b[0m \u001b[1;33m+\u001b[0m \u001b[0mname\u001b[0m\u001b[1;33m:\u001b[0m \u001b[0mval\u001b[0m \u001b[1;32mfor\u001b[0m \u001b[0mname\u001b[0m\u001b[1;33m,\u001b[0m \u001b[0mval\u001b[0m \u001b[1;32min\u001b[0m \u001b[0mval_logs\u001b[0m\u001b[1;33m.\u001b[0m\u001b[0mitems\u001b[0m\u001b[1;33m(\u001b[0m\u001b[1;33m)\u001b[0m\u001b[1;33m}\u001b[0m\u001b[1;33m\u001b[0m\u001b[1;33m\u001b[0m\u001b[0m\n\u001b[0;32m    874\u001b[0m           \u001b[0mepoch_logs\u001b[0m\u001b[1;33m.\u001b[0m\u001b[0mupdate\u001b[0m\u001b[1;33m(\u001b[0m\u001b[0mval_logs\u001b[0m\u001b[1;33m)\u001b[0m\u001b[1;33m\u001b[0m\u001b[1;33m\u001b[0m\u001b[0m\n",
      "\u001b[1;32m~\\AppData\\Roaming\\Python\\Python37\\site-packages\\tensorflow\\python\\keras\\engine\\training.py\u001b[0m in \u001b[0;36m_method_wrapper\u001b[1;34m(self, *args, **kwargs)\u001b[0m\n\u001b[0;32m     64\u001b[0m   \u001b[1;32mdef\u001b[0m \u001b[0m_method_wrapper\u001b[0m\u001b[1;33m(\u001b[0m\u001b[0mself\u001b[0m\u001b[1;33m,\u001b[0m \u001b[1;33m*\u001b[0m\u001b[0margs\u001b[0m\u001b[1;33m,\u001b[0m \u001b[1;33m**\u001b[0m\u001b[0mkwargs\u001b[0m\u001b[1;33m)\u001b[0m\u001b[1;33m:\u001b[0m\u001b[1;33m\u001b[0m\u001b[1;33m\u001b[0m\u001b[0m\n\u001b[0;32m     65\u001b[0m     \u001b[1;32mif\u001b[0m \u001b[1;32mnot\u001b[0m \u001b[0mself\u001b[0m\u001b[1;33m.\u001b[0m\u001b[0m_in_multi_worker_mode\u001b[0m\u001b[1;33m(\u001b[0m\u001b[1;33m)\u001b[0m\u001b[1;33m:\u001b[0m  \u001b[1;31m# pylint: disable=protected-access\u001b[0m\u001b[1;33m\u001b[0m\u001b[1;33m\u001b[0m\u001b[0m\n\u001b[1;32m---> 66\u001b[1;33m       \u001b[1;32mreturn\u001b[0m \u001b[0mmethod\u001b[0m\u001b[1;33m(\u001b[0m\u001b[0mself\u001b[0m\u001b[1;33m,\u001b[0m \u001b[1;33m*\u001b[0m\u001b[0margs\u001b[0m\u001b[1;33m,\u001b[0m \u001b[1;33m**\u001b[0m\u001b[0mkwargs\u001b[0m\u001b[1;33m)\u001b[0m\u001b[1;33m\u001b[0m\u001b[1;33m\u001b[0m\u001b[0m\n\u001b[0m\u001b[0;32m     67\u001b[0m \u001b[1;33m\u001b[0m\u001b[0m\n\u001b[0;32m     68\u001b[0m     \u001b[1;31m# Running inside `run_distribute_coordinator` already.\u001b[0m\u001b[1;33m\u001b[0m\u001b[1;33m\u001b[0m\u001b[1;33m\u001b[0m\u001b[0m\n",
      "\u001b[1;32m~\\AppData\\Roaming\\Python\\Python37\\site-packages\\tensorflow\\python\\keras\\engine\\training.py\u001b[0m in \u001b[0;36mevaluate\u001b[1;34m(self, x, y, batch_size, verbose, sample_weight, steps, callbacks, max_queue_size, workers, use_multiprocessing, return_dict)\u001b[0m\n\u001b[0;32m   1079\u001b[0m                 step_num=step):\n\u001b[0;32m   1080\u001b[0m               \u001b[0mcallbacks\u001b[0m\u001b[1;33m.\u001b[0m\u001b[0mon_test_batch_begin\u001b[0m\u001b[1;33m(\u001b[0m\u001b[0mstep\u001b[0m\u001b[1;33m)\u001b[0m\u001b[1;33m\u001b[0m\u001b[1;33m\u001b[0m\u001b[0m\n\u001b[1;32m-> 1081\u001b[1;33m               \u001b[0mtmp_logs\u001b[0m \u001b[1;33m=\u001b[0m \u001b[0mtest_function\u001b[0m\u001b[1;33m(\u001b[0m\u001b[0miterator\u001b[0m\u001b[1;33m)\u001b[0m\u001b[1;33m\u001b[0m\u001b[1;33m\u001b[0m\u001b[0m\n\u001b[0m\u001b[0;32m   1082\u001b[0m               \u001b[1;31m# Catch OutOfRangeError for Datasets of unknown size.\u001b[0m\u001b[1;33m\u001b[0m\u001b[1;33m\u001b[0m\u001b[1;33m\u001b[0m\u001b[0m\n\u001b[0;32m   1083\u001b[0m               \u001b[1;31m# This blocks until the batch has finished executing.\u001b[0m\u001b[1;33m\u001b[0m\u001b[1;33m\u001b[0m\u001b[1;33m\u001b[0m\u001b[0m\n",
      "\u001b[1;32m~\\AppData\\Roaming\\Python\\Python37\\site-packages\\tensorflow\\python\\eager\\def_function.py\u001b[0m in \u001b[0;36m__call__\u001b[1;34m(self, *args, **kwds)\u001b[0m\n\u001b[0;32m    578\u001b[0m         \u001b[0mxla_context\u001b[0m\u001b[1;33m.\u001b[0m\u001b[0mExit\u001b[0m\u001b[1;33m(\u001b[0m\u001b[1;33m)\u001b[0m\u001b[1;33m\u001b[0m\u001b[1;33m\u001b[0m\u001b[0m\n\u001b[0;32m    579\u001b[0m     \u001b[1;32melse\u001b[0m\u001b[1;33m:\u001b[0m\u001b[1;33m\u001b[0m\u001b[1;33m\u001b[0m\u001b[0m\n\u001b[1;32m--> 580\u001b[1;33m       \u001b[0mresult\u001b[0m \u001b[1;33m=\u001b[0m \u001b[0mself\u001b[0m\u001b[1;33m.\u001b[0m\u001b[0m_call\u001b[0m\u001b[1;33m(\u001b[0m\u001b[1;33m*\u001b[0m\u001b[0margs\u001b[0m\u001b[1;33m,\u001b[0m \u001b[1;33m**\u001b[0m\u001b[0mkwds\u001b[0m\u001b[1;33m)\u001b[0m\u001b[1;33m\u001b[0m\u001b[1;33m\u001b[0m\u001b[0m\n\u001b[0m\u001b[0;32m    581\u001b[0m \u001b[1;33m\u001b[0m\u001b[0m\n\u001b[0;32m    582\u001b[0m     \u001b[1;32mif\u001b[0m \u001b[0mtracing_count\u001b[0m \u001b[1;33m==\u001b[0m \u001b[0mself\u001b[0m\u001b[1;33m.\u001b[0m\u001b[0m_get_tracing_count\u001b[0m\u001b[1;33m(\u001b[0m\u001b[1;33m)\u001b[0m\u001b[1;33m:\u001b[0m\u001b[1;33m\u001b[0m\u001b[1;33m\u001b[0m\u001b[0m\n",
      "\u001b[1;32m~\\AppData\\Roaming\\Python\\Python37\\site-packages\\tensorflow\\python\\eager\\def_function.py\u001b[0m in \u001b[0;36m_call\u001b[1;34m(self, *args, **kwds)\u001b[0m\n\u001b[0;32m    616\u001b[0m       \u001b[1;31m# In this case we have not created variables on the first call. So we can\u001b[0m\u001b[1;33m\u001b[0m\u001b[1;33m\u001b[0m\u001b[1;33m\u001b[0m\u001b[0m\n\u001b[0;32m    617\u001b[0m       \u001b[1;31m# run the first trace but we should fail if variables are created.\u001b[0m\u001b[1;33m\u001b[0m\u001b[1;33m\u001b[0m\u001b[1;33m\u001b[0m\u001b[0m\n\u001b[1;32m--> 618\u001b[1;33m       \u001b[0mresults\u001b[0m \u001b[1;33m=\u001b[0m \u001b[0mself\u001b[0m\u001b[1;33m.\u001b[0m\u001b[0m_stateful_fn\u001b[0m\u001b[1;33m(\u001b[0m\u001b[1;33m*\u001b[0m\u001b[0margs\u001b[0m\u001b[1;33m,\u001b[0m \u001b[1;33m**\u001b[0m\u001b[0mkwds\u001b[0m\u001b[1;33m)\u001b[0m\u001b[1;33m\u001b[0m\u001b[1;33m\u001b[0m\u001b[0m\n\u001b[0m\u001b[0;32m    619\u001b[0m       \u001b[1;32mif\u001b[0m \u001b[0mself\u001b[0m\u001b[1;33m.\u001b[0m\u001b[0m_created_variables\u001b[0m\u001b[1;33m:\u001b[0m\u001b[1;33m\u001b[0m\u001b[1;33m\u001b[0m\u001b[0m\n\u001b[0;32m    620\u001b[0m         raise ValueError(\"Creating variables on a non-first call to a function\"\n",
      "\u001b[1;32m~\\AppData\\Roaming\\Python\\Python37\\site-packages\\tensorflow\\python\\eager\\function.py\u001b[0m in \u001b[0;36m__call__\u001b[1;34m(self, *args, **kwargs)\u001b[0m\n\u001b[0;32m   2418\u001b[0m     \u001b[1;32mwith\u001b[0m \u001b[0mself\u001b[0m\u001b[1;33m.\u001b[0m\u001b[0m_lock\u001b[0m\u001b[1;33m:\u001b[0m\u001b[1;33m\u001b[0m\u001b[1;33m\u001b[0m\u001b[0m\n\u001b[0;32m   2419\u001b[0m       \u001b[0mgraph_function\u001b[0m\u001b[1;33m,\u001b[0m \u001b[0margs\u001b[0m\u001b[1;33m,\u001b[0m \u001b[0mkwargs\u001b[0m \u001b[1;33m=\u001b[0m \u001b[0mself\u001b[0m\u001b[1;33m.\u001b[0m\u001b[0m_maybe_define_function\u001b[0m\u001b[1;33m(\u001b[0m\u001b[0margs\u001b[0m\u001b[1;33m,\u001b[0m \u001b[0mkwargs\u001b[0m\u001b[1;33m)\u001b[0m\u001b[1;33m\u001b[0m\u001b[1;33m\u001b[0m\u001b[0m\n\u001b[1;32m-> 2420\u001b[1;33m     \u001b[1;32mreturn\u001b[0m \u001b[0mgraph_function\u001b[0m\u001b[1;33m.\u001b[0m\u001b[0m_filtered_call\u001b[0m\u001b[1;33m(\u001b[0m\u001b[0margs\u001b[0m\u001b[1;33m,\u001b[0m \u001b[0mkwargs\u001b[0m\u001b[1;33m)\u001b[0m  \u001b[1;31m# pylint: disable=protected-access\u001b[0m\u001b[1;33m\u001b[0m\u001b[1;33m\u001b[0m\u001b[0m\n\u001b[0m\u001b[0;32m   2421\u001b[0m \u001b[1;33m\u001b[0m\u001b[0m\n\u001b[0;32m   2422\u001b[0m   \u001b[1;33m@\u001b[0m\u001b[0mproperty\u001b[0m\u001b[1;33m\u001b[0m\u001b[1;33m\u001b[0m\u001b[0m\n",
      "\u001b[1;32m~\\AppData\\Roaming\\Python\\Python37\\site-packages\\tensorflow\\python\\eager\\function.py\u001b[0m in \u001b[0;36m_filtered_call\u001b[1;34m(self, args, kwargs)\u001b[0m\n\u001b[0;32m   1663\u001b[0m          if isinstance(t, (ops.Tensor,\n\u001b[0;32m   1664\u001b[0m                            resource_variable_ops.BaseResourceVariable))),\n\u001b[1;32m-> 1665\u001b[1;33m         self.captured_inputs)\n\u001b[0m\u001b[0;32m   1666\u001b[0m \u001b[1;33m\u001b[0m\u001b[0m\n\u001b[0;32m   1667\u001b[0m   \u001b[1;32mdef\u001b[0m \u001b[0m_call_flat\u001b[0m\u001b[1;33m(\u001b[0m\u001b[0mself\u001b[0m\u001b[1;33m,\u001b[0m \u001b[0margs\u001b[0m\u001b[1;33m,\u001b[0m \u001b[0mcaptured_inputs\u001b[0m\u001b[1;33m,\u001b[0m \u001b[0mcancellation_manager\u001b[0m\u001b[1;33m=\u001b[0m\u001b[1;32mNone\u001b[0m\u001b[1;33m)\u001b[0m\u001b[1;33m:\u001b[0m\u001b[1;33m\u001b[0m\u001b[1;33m\u001b[0m\u001b[0m\n",
      "\u001b[1;32m~\\AppData\\Roaming\\Python\\Python37\\site-packages\\tensorflow\\python\\eager\\function.py\u001b[0m in \u001b[0;36m_call_flat\u001b[1;34m(self, args, captured_inputs, cancellation_manager)\u001b[0m\n\u001b[0;32m   1744\u001b[0m       \u001b[1;31m# No tape is watching; skip to running the function.\u001b[0m\u001b[1;33m\u001b[0m\u001b[1;33m\u001b[0m\u001b[1;33m\u001b[0m\u001b[0m\n\u001b[0;32m   1745\u001b[0m       return self._build_call_outputs(self._inference_function.call(\n\u001b[1;32m-> 1746\u001b[1;33m           ctx, args, cancellation_manager=cancellation_manager))\n\u001b[0m\u001b[0;32m   1747\u001b[0m     forward_backward = self._select_forward_and_backward_functions(\n\u001b[0;32m   1748\u001b[0m         \u001b[0margs\u001b[0m\u001b[1;33m,\u001b[0m\u001b[1;33m\u001b[0m\u001b[1;33m\u001b[0m\u001b[0m\n",
      "\u001b[1;32m~\\AppData\\Roaming\\Python\\Python37\\site-packages\\tensorflow\\python\\eager\\function.py\u001b[0m in \u001b[0;36mcall\u001b[1;34m(self, ctx, args, cancellation_manager)\u001b[0m\n\u001b[0;32m    596\u001b[0m               \u001b[0minputs\u001b[0m\u001b[1;33m=\u001b[0m\u001b[0margs\u001b[0m\u001b[1;33m,\u001b[0m\u001b[1;33m\u001b[0m\u001b[1;33m\u001b[0m\u001b[0m\n\u001b[0;32m    597\u001b[0m               \u001b[0mattrs\u001b[0m\u001b[1;33m=\u001b[0m\u001b[0mattrs\u001b[0m\u001b[1;33m,\u001b[0m\u001b[1;33m\u001b[0m\u001b[1;33m\u001b[0m\u001b[0m\n\u001b[1;32m--> 598\u001b[1;33m               ctx=ctx)\n\u001b[0m\u001b[0;32m    599\u001b[0m         \u001b[1;32melse\u001b[0m\u001b[1;33m:\u001b[0m\u001b[1;33m\u001b[0m\u001b[1;33m\u001b[0m\u001b[0m\n\u001b[0;32m    600\u001b[0m           outputs = execute.execute_with_cancellation(\n",
      "\u001b[1;32m~\\AppData\\Roaming\\Python\\Python37\\site-packages\\tensorflow\\python\\eager\\execute.py\u001b[0m in \u001b[0;36mquick_execute\u001b[1;34m(op_name, num_outputs, inputs, attrs, ctx, name)\u001b[0m\n\u001b[0;32m     58\u001b[0m     \u001b[0mctx\u001b[0m\u001b[1;33m.\u001b[0m\u001b[0mensure_initialized\u001b[0m\u001b[1;33m(\u001b[0m\u001b[1;33m)\u001b[0m\u001b[1;33m\u001b[0m\u001b[1;33m\u001b[0m\u001b[0m\n\u001b[0;32m     59\u001b[0m     tensors = pywrap_tfe.TFE_Py_Execute(ctx._handle, device_name, op_name,\n\u001b[1;32m---> 60\u001b[1;33m                                         inputs, attrs, num_outputs)\n\u001b[0m\u001b[0;32m     61\u001b[0m   \u001b[1;32mexcept\u001b[0m \u001b[0mcore\u001b[0m\u001b[1;33m.\u001b[0m\u001b[0m_NotOkStatusException\u001b[0m \u001b[1;32mas\u001b[0m \u001b[0me\u001b[0m\u001b[1;33m:\u001b[0m\u001b[1;33m\u001b[0m\u001b[1;33m\u001b[0m\u001b[0m\n\u001b[0;32m     62\u001b[0m     \u001b[1;32mif\u001b[0m \u001b[0mname\u001b[0m \u001b[1;32mis\u001b[0m \u001b[1;32mnot\u001b[0m \u001b[1;32mNone\u001b[0m\u001b[1;33m:\u001b[0m\u001b[1;33m\u001b[0m\u001b[1;33m\u001b[0m\u001b[0m\n",
      "\u001b[1;31mKeyboardInterrupt\u001b[0m: "
     ]
    }
   ],
   "source": [
    "history = myRNN.fit(X_train_padded, y_train, epochs=30, batch_size=32, callbacks=[myCB], validation_data = (X_test_padded, y_test), verbose=1)"
   ]
  },
  {
   "cell_type": "code",
   "execution_count": null,
   "metadata": {},
   "outputs": [],
   "source": []
  }
 ],
 "metadata": {
  "kernelspec": {
   "display_name": "Python 3",
   "language": "python",
   "name": "python3"
  },
  "language_info": {
   "codemirror_mode": {
    "name": "ipython",
    "version": 3
   },
   "file_extension": ".py",
   "mimetype": "text/x-python",
   "name": "python",
   "nbconvert_exporter": "python",
   "pygments_lexer": "ipython3",
   "version": "3.7.3"
  }
 },
 "nbformat": 4,
 "nbformat_minor": 2
}
