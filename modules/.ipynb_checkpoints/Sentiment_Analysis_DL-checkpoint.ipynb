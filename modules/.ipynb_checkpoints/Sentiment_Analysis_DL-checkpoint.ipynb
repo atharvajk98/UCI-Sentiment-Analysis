{
 "cells": [
  {
   "cell_type": "code",
   "execution_count": 8,
   "metadata": {},
   "outputs": [],
   "source": [
    "from TextPreprocessing import TextPreprocessing\n",
    "import Model as model\n",
    "from sklearn.model_selection import train_test_split\n",
    "import tensorflow as tf\n",
    "from tensorflow import keras\n",
    "from keras.regularizers import l2\n",
    "import numpy as np\n",
    "import pandas as pd"
   ]
  },
  {
   "cell_type": "code",
   "execution_count": 77,
   "metadata": {},
   "outputs": [],
   "source": [
    "max_words = 10000\n",
    "oov_word = \"<00V>\"\n",
    "padding_type = \"post\"\n",
    "truncating_type = \"post\"\n",
    "pad_len = 100"
   ]
  },
  {
   "cell_type": "code",
   "execution_count": 78,
   "metadata": {},
   "outputs": [],
   "source": [
    "# ------------------------------------- AMAZON DATASET SENTIMENT ANALYSIS ----------------------------------------------"
   ]
  },
  {
   "cell_type": "code",
   "execution_count": 79,
   "metadata": {},
   "outputs": [],
   "source": [
    "tp = TextPreprocessing('Amazon')"
   ]
  },
  {
   "cell_type": "code",
   "execution_count": 80,
   "metadata": {},
   "outputs": [],
   "source": [
    "corpus, labels = tp.get_data()"
   ]
  },
  {
   "cell_type": "code",
   "execution_count": 81,
   "metadata": {},
   "outputs": [],
   "source": [
    "df = pd.DataFrame(list(zip(corpus,labels)), columns=['corpus', 'labels'])"
   ]
  },
  {
   "cell_type": "code",
   "execution_count": 82,
   "metadata": {},
   "outputs": [
    {
     "data": {
      "text/html": [
       "<div>\n",
       "<style scoped>\n",
       "    .dataframe tbody tr th:only-of-type {\n",
       "        vertical-align: middle;\n",
       "    }\n",
       "\n",
       "    .dataframe tbody tr th {\n",
       "        vertical-align: top;\n",
       "    }\n",
       "\n",
       "    .dataframe thead th {\n",
       "        text-align: right;\n",
       "    }\n",
       "</style>\n",
       "<table border=\"1\" class=\"dataframe\">\n",
       "  <thead>\n",
       "    <tr style=\"text-align: right;\">\n",
       "      <th></th>\n",
       "      <th>corpus</th>\n",
       "      <th>labels</th>\n",
       "    </tr>\n",
       "  </thead>\n",
       "  <tbody>\n",
       "    <tr>\n",
       "      <th>0</th>\n",
       "      <td>So there is no way for me to plug it in here i...</td>\n",
       "      <td>0</td>\n",
       "    </tr>\n",
       "    <tr>\n",
       "      <th>1</th>\n",
       "      <td>Good case, Excellent value.</td>\n",
       "      <td>1</td>\n",
       "    </tr>\n",
       "    <tr>\n",
       "      <th>2</th>\n",
       "      <td>Great for the jawbone.</td>\n",
       "      <td>1</td>\n",
       "    </tr>\n",
       "    <tr>\n",
       "      <th>3</th>\n",
       "      <td>Tied to charger for conversations lasting more...</td>\n",
       "      <td>0</td>\n",
       "    </tr>\n",
       "    <tr>\n",
       "      <th>4</th>\n",
       "      <td>The mic is great.</td>\n",
       "      <td>1</td>\n",
       "    </tr>\n",
       "  </tbody>\n",
       "</table>\n",
       "</div>"
      ],
      "text/plain": [
       "                                              corpus labels\n",
       "0  So there is no way for me to plug it in here i...      0\n",
       "1                        Good case, Excellent value.      1\n",
       "2                             Great for the jawbone.      1\n",
       "3  Tied to charger for conversations lasting more...      0\n",
       "4                                  The mic is great.      1"
      ]
     },
     "execution_count": 82,
     "metadata": {},
     "output_type": "execute_result"
    }
   ],
   "source": [
    "df.head()"
   ]
  },
  {
   "cell_type": "code",
   "execution_count": 83,
   "metadata": {},
   "outputs": [],
   "source": [
    "X = []\n",
    "for c in df['corpus'].values:\n",
    "    X.append(tp.preprocess_text(c))"
   ]
  },
  {
   "cell_type": "code",
   "execution_count": 85,
   "metadata": {},
   "outputs": [
    {
     "name": "stdout",
     "output_type": "stream",
     "text": [
      "The accompanied software is almost brilliant.\n",
      "accompany software almost brilliant\n",
      "1\n",
      "\n",
      "I only hear garbage for audio.\n",
      "hear garbage audio\n",
      "0\n"
     ]
    }
   ],
   "source": [
    "print(df['corpus'].values[131])\n",
    "print(X[131])\n",
    "print(df['labels'].values[131])\n",
    "\n",
    "print(\"\\n\"+df['corpus'].values[43])\n",
    "print(X[43])\n",
    "print(df['labels'].values[43])"
   ]
  },
  {
   "cell_type": "code",
   "execution_count": 86,
   "metadata": {},
   "outputs": [],
   "source": [
    "#Splitting into training(80%) and testing data(20%)\n",
    "X_train, X_test, y_train, y_test = train_test_split(X, df['labels'].values, test_size=0.20, random_state=42, shuffle=True)"
   ]
  },
  {
   "cell_type": "code",
   "execution_count": 89,
   "metadata": {},
   "outputs": [],
   "source": [
    "y_train = y_train.reshape(y_train.shape[0], -1)\n",
    "y_train = np.array(y_train, dtype=np.float32)\n",
    "y_test = y_test.reshape(y_test.shape[0], -1)\n",
    "y_test = np.array(y_test, dtype=np.float32)"
   ]
  },
  {
   "cell_type": "code",
   "execution_count": 90,
   "metadata": {},
   "outputs": [],
   "source": [
    "tokenizer, vocab_size, X_train_padded, X_test_padded = tp.tokenizer_and_pad_training(X_train, X_test, max_words, oov_word, padding_type, truncating_type, pad_len)"
   ]
  },
  {
   "cell_type": "code",
   "execution_count": 91,
   "metadata": {
    "scrolled": true
   },
   "outputs": [
    {
     "name": "stdout",
     "output_type": "stream",
     "text": [
      "<class 'numpy.ndarray'>\n",
      "<class 'numpy.ndarray'>\n",
      "<class 'numpy.ndarray'>\n",
      "<class 'numpy.ndarray'>\n"
     ]
    }
   ],
   "source": [
    "print(type(X_train_padded))\n",
    "print(type(y_train))\n",
    "print(type(X_test_padded))\n",
    "print(type(y_test[0]))"
   ]
  },
  {
   "cell_type": "code",
   "execution_count": 92,
   "metadata": {},
   "outputs": [
    {
     "name": "stdout",
     "output_type": "stream",
     "text": [
      "(800, 100)\n",
      "(800, 1)\n",
      "(200, 100)\n",
      "(200, 1)\n"
     ]
    }
   ],
   "source": [
    "print(X_train_padded.shape)\n",
    "print(y_train.shape)\n",
    "print(X_test_padded.shape)\n",
    "print(y_test.shape)"
   ]
  },
  {
   "cell_type": "code",
   "execution_count": 93,
   "metadata": {},
   "outputs": [],
   "source": [
    "embedding_matrix = tp.get_embedding_metrix(vocab_size, tokenizer)"
   ]
  },
  {
   "cell_type": "code",
   "execution_count": 94,
   "metadata": {},
   "outputs": [
    {
     "name": "stdout",
     "output_type": "stream",
     "text": [
      "(1241, 100)\n"
     ]
    }
   ],
   "source": [
    "print(embedding_matrix.shape)"
   ]
  },
  {
   "cell_type": "code",
   "execution_count": 95,
   "metadata": {},
   "outputs": [],
   "source": [
    "input_dim = vocab_size\n",
    "embedding_dim = 100\n",
    "input_len = pad_len\n",
    "\n",
    "myCB = model.myCallbacks()"
   ]
  },
  {
   "cell_type": "code",
   "execution_count": 98,
   "metadata": {},
   "outputs": [
    {
     "name": "stdout",
     "output_type": "stream",
     "text": [
      "Model: \"sequential_4\"\n",
      "_________________________________________________________________\n",
      "Layer (type)                 Output Shape              Param #   \n",
      "=================================================================\n",
      "embedding_4 (Embedding)      (None, 100, 100)          124100    \n",
      "_________________________________________________________________\n",
      "global_max_pooling1d_4 (Glob (None, 100)               0         \n",
      "_________________________________________________________________\n",
      "dense_12 (Dense)             (None, 64)                6464      \n",
      "_________________________________________________________________\n",
      "dense_13 (Dense)             (None, 32)                2080      \n",
      "_________________________________________________________________\n",
      "dense_14 (Dense)             (None, 1)                 33        \n",
      "=================================================================\n",
      "Total params: 132,677\n",
      "Trainable params: 132,677\n",
      "Non-trainable params: 0\n",
      "_________________________________________________________________\n"
     ]
    }
   ],
   "source": [
    "myDNN = model.create_model_DNN(input_dim, embedding_dim, embedding_matrix, input_len, trainable=True, n1=64, n2=32, kr=l2(0.015))\n",
    "myDNN.summary()"
   ]
  },
  {
   "cell_type": "code",
   "execution_count": 99,
   "metadata": {
    "scrolled": true
   },
   "outputs": [
    {
     "name": "stdout",
     "output_type": "stream",
     "text": [
      "Epoch 1/40\n",
      "25/25 [==============================] - 0s 9ms/step - loss: 2.2904 - acc: 0.5350 - val_loss: 2.0510 - val_acc: 0.6400\n",
      "Epoch 2/40\n",
      "25/25 [==============================] - 0s 6ms/step - loss: 1.8576 - acc: 0.6500 - val_loss: 1.6756 - val_acc: 0.6350\n",
      "Epoch 3/40\n",
      "25/25 [==============================] - 0s 5ms/step - loss: 1.5166 - acc: 0.7150 - val_loss: 1.4000 - val_acc: 0.6850\n",
      "Epoch 4/40\n",
      "25/25 [==============================] - 0s 5ms/step - loss: 1.2558 - acc: 0.7600 - val_loss: 1.2024 - val_acc: 0.6950\n",
      "Epoch 5/40\n",
      "25/25 [==============================] - 0s 5ms/step - loss: 1.0565 - acc: 0.7912 - val_loss: 1.0453 - val_acc: 0.7300\n",
      "Epoch 6/40\n",
      "25/25 [==============================] - 0s 6ms/step - loss: 0.8753 - acc: 0.8413 - val_loss: 0.9122 - val_acc: 0.7550\n",
      "Epoch 7/40\n",
      "25/25 [==============================] - 0s 5ms/step - loss: 0.7389 - acc: 0.8788 - val_loss: 0.8268 - val_acc: 0.7600\n",
      "Epoch 8/40\n",
      "25/25 [==============================] - 0s 5ms/step - loss: 0.6264 - acc: 0.9087 - val_loss: 0.7639 - val_acc: 0.7600\n",
      "Epoch 9/40\n",
      "25/25 [==============================] - 0s 5ms/step - loss: 0.5468 - acc: 0.9175 - val_loss: 0.7078 - val_acc: 0.7900\n",
      "Epoch 10/40\n",
      "25/25 [==============================] - 0s 5ms/step - loss: 0.4839 - acc: 0.9337 - val_loss: 0.6862 - val_acc: 0.8050\n",
      "Epoch 11/40\n",
      "25/25 [==============================] - 0s 5ms/step - loss: 0.4182 - acc: 0.9563 - val_loss: 0.6502 - val_acc: 0.8150\n",
      "Epoch 12/40\n",
      "25/25 [==============================] - 0s 5ms/step - loss: 0.3706 - acc: 0.9663 - val_loss: 0.6266 - val_acc: 0.8200\n",
      "Epoch 13/40\n",
      "25/25 [==============================] - 0s 5ms/step - loss: 0.3306 - acc: 0.9775 - val_loss: 0.6158 - val_acc: 0.8250\n",
      "Epoch 14/40\n",
      "25/25 [==============================] - 0s 7ms/step - loss: 0.3012 - acc: 0.9812 - val_loss: 0.5882 - val_acc: 0.8200\n",
      "Epoch 15/40\n",
      "25/25 [==============================] - 0s 5ms/step - loss: 0.2775 - acc: 0.9875 - val_loss: 0.5731 - val_acc: 0.8150\n",
      "Epoch 16/40\n",
      "25/25 [==============================] - ETA: 0s - loss: 0.2560 - acc: 0.9900\n",
      "Training accuracy above 99%...so training stopped...\n",
      "\n",
      "25/25 [==============================] - 0s 6ms/step - loss: 0.2560 - acc: 0.9900 - val_loss: 0.5575 - val_acc: 0.8150\n"
     ]
    }
   ],
   "source": [
    "history = myDNN.fit(X_train_padded, y_train, epochs=40, batch_size=32, verbose=1, validation_data = (X_test_padded, y_test), callbacks=[myCB])"
   ]
  },
  {
   "cell_type": "code",
   "execution_count": 100,
   "metadata": {},
   "outputs": [
    {
     "data": {
      "image/png": "[encoded data removed]",
      "text/plain": [
       "<Figure size 432x288 with 1 Axes>"
      ]
     },
     "metadata": {
      "needs_background": "light"
     },
     "output_type": "display_data"
    },
    {
     "data": {
      "image/png": "[encoded data removed]",
      "text/plain": [
       "<Figure size 432x288 with 1 Axes>"
      ]
     },
     "metadata": {
      "needs_background": "light"
     },
     "output_type": "display_data"
    }
   ],
   "source": [
    "model.plot_curves(history)"
   ]
  },
  {
   "cell_type": "code",
   "execution_count": 116,
   "metadata": {},
   "outputs": [],
   "source": [
    "model.save_models(myDNN, \"DNN_n164_n232_kr0015_vacc81\")"
   ]
  },
  {
   "cell_type": "code",
   "execution_count": null,
   "metadata": {},
   "outputs": [],
   "source": [
    "def create_model_CNN(n1, k, d=0.0, lr=0.001, kr=None, br=None):\n",
    "    myCNN = Sequential()\n",
    "    myCNN.add(Embedding(input_dim=input_dim, output_dim = embedding_dim, weights=[embedding_matrix], input_length=pad_len , trainable=True))\n",
    "    myCNN.add(Conv1D(n1, kernel_size=k, kernel_regularizer=kr, bias_regularizer=br, activation='relu'))\n",
    "    myCNN.add(GlobalMaxPooling1D())\n",
    "    myCNN.add(Dropout(0.3))\n",
    "    myCNN.add(Dense(1, activation='sigmoid'))\n",
    "    myAdam = keras.optimizers.Adam(learning_rate=lr)\n",
    "    myCNN.compile(optimizer=myAdam, loss=\"binary_crossentropy\", metrics=['acc'])\n",
    "    \n",
    "    return myCNN"
   ]
  },
  {
   "cell_type": "code",
   "execution_count": 104,
   "metadata": {},
   "outputs": [
    {
     "name": "stdout",
     "output_type": "stream",
     "text": [
      "Model: \"sequential_5\"\n",
      "_________________________________________________________________\n",
      "Layer (type)                 Output Shape              Param #   \n",
      "=================================================================\n",
      "embedding_5 (Embedding)      (None, 100, 100)          124100    \n",
      "_________________________________________________________________\n",
      "conv1d (Conv1D)              (None, 96, 64)            32064     \n",
      "_________________________________________________________________\n",
      "global_max_pooling1d_5 (Glob (None, 64)                0         \n",
      "_________________________________________________________________\n",
      "dropout (Dropout)            (None, 64)                0         \n",
      "_________________________________________________________________\n",
      "dense_15 (Dense)             (None, 1)                 65        \n",
      "=================================================================\n",
      "Total params: 156,229\n",
      "Trainable params: 156,229\n",
      "Non-trainable params: 0\n",
      "_________________________________________________________________\n"
     ]
    }
   ],
   "source": [
    "myCNN = model.create_model_CNN(input_dim, embedding_dim, embedding_matrix, input_len, trainable=True, n1=64, k=5, d=0.3, kr=l2(0.02))\n",
    "myCNN.summary()"
   ]
  },
  {
   "cell_type": "code",
   "execution_count": 105,
   "metadata": {
    "scrolled": true
   },
   "outputs": [
    {
     "name": "stdout",
     "output_type": "stream",
     "text": [
      "Epoch 1/40\n",
      "25/25 [==============================] - 0s 19ms/step - loss: 2.0274 - acc: 0.5525 - val_loss: 1.6509 - val_acc: 0.6600\n",
      "Epoch 2/40\n",
      "25/25 [==============================] - 2s 74ms/step - loss: 1.4002 - acc: 0.7575 - val_loss: 1.2542 - val_acc: 0.7450\n",
      "Epoch 3/40\n",
      "25/25 [==============================] - 2s 74ms/step - loss: 1.0431 - acc: 0.8325 - val_loss: 1.0005 - val_acc: 0.7500\n",
      "Epoch 4/40\n",
      "25/25 [==============================] - 1s 25ms/step - loss: 0.8123 - acc: 0.8800 - val_loss: 0.8430 - val_acc: 0.7800\n",
      "Epoch 5/40\n",
      "25/25 [==============================] - 1s 26ms/step - loss: 0.6527 - acc: 0.9100 - val_loss: 0.7098 - val_acc: 0.8250\n",
      "Epoch 6/40\n",
      "25/25 [==============================] - 1s 26ms/step - loss: 0.5478 - acc: 0.9312 - val_loss: 0.6394 - val_acc: 0.8250\n",
      "Epoch 7/40\n",
      "25/25 [==============================] - 1s 25ms/step - loss: 0.4812 - acc: 0.9287 - val_loss: 0.5875 - val_acc: 0.8400\n",
      "Epoch 8/40\n",
      "25/25 [==============================] - 1s 28ms/step - loss: 0.4134 - acc: 0.9525 - val_loss: 0.5522 - val_acc: 0.8400\n",
      "Epoch 9/40\n",
      "25/25 [==============================] - 1s 26ms/step - loss: 0.3605 - acc: 0.9675 - val_loss: 0.5134 - val_acc: 0.8400\n",
      "Epoch 10/40\n",
      "25/25 [==============================] - 1s 27ms/step - loss: 0.3267 - acc: 0.9712 - val_loss: 0.4973 - val_acc: 0.8400\n",
      "Epoch 11/40\n",
      "25/25 [==============================] - 1s 27ms/step - loss: 0.2880 - acc: 0.9812 - val_loss: 0.4792 - val_acc: 0.8350\n",
      "Epoch 12/40\n",
      "25/25 [==============================] - 1s 26ms/step - loss: 0.2738 - acc: 0.9800 - val_loss: 0.4623 - val_acc: 0.8450\n",
      "Epoch 13/40\n",
      "25/25 [==============================] - 1s 27ms/step - loss: 0.2497 - acc: 0.9850 - val_loss: 0.4417 - val_acc: 0.8650\n",
      "Epoch 14/40\n",
      "25/25 [==============================] - 1s 26ms/step - loss: 0.2316 - acc: 0.9875 - val_loss: 0.4549 - val_acc: 0.8400\n",
      "Epoch 15/40\n",
      "25/25 [==============================] - 1s 28ms/step - loss: 0.2119 - acc: 0.9850 - val_loss: 0.4258 - val_acc: 0.8550\n",
      "Epoch 16/40\n",
      "25/25 [==============================] - 1s 26ms/step - loss: 0.1980 - acc: 0.9887 - val_loss: 0.4192 - val_acc: 0.8550\n",
      "Epoch 17/40\n",
      "25/25 [==============================] - 1s 25ms/step - loss: 0.1862 - acc: 0.9887 - val_loss: 0.4396 - val_acc: 0.8500\n",
      "Epoch 18/40\n",
      "25/25 [==============================] - ETA: 0s - loss: 0.1766 - acc: 0.9900\n",
      "Training accuracy above 99%...so training stopped...\n",
      "\n",
      "25/25 [==============================] - 1s 27ms/step - loss: 0.1766 - acc: 0.9900 - val_loss: 0.4033 - val_acc: 0.8700\n"
     ]
    }
   ],
   "source": [
    "history1 = myCNN.fit(X_train_padded, y_train, epochs=40, batch_size=32, validation_data=(X_test_padded, y_test), callbacks=[myCB], verbose=1)"
   ]
  },
  {
   "cell_type": "code",
   "execution_count": 106,
   "metadata": {},
   "outputs": [
    {
     "name": "stdout",
     "output_type": "stream",
     "text": [
      "7/7 [==============================] - 0s 3ms/step - loss: 0.4033 - acc: 0.8700\n"
     ]
    },
    {
     "data": {
      "text/plain": [
       "[0.4033038020133972, 0.8700000047683716]"
      ]
     },
     "execution_count": 106,
     "metadata": {},
     "output_type": "execute_result"
    }
   ],
   "source": [
    "myCNN.evaluate(X_test_padded, y_test, verbose=1)"
   ]
  },
  {
   "cell_type": "code",
   "execution_count": 107,
   "metadata": {
    "scrolled": false
   },
   "outputs": [
    {
     "data": {
      "image/png": "[encoded data removed]",
      "text/plain": [
       "<Figure size 432x288 with 1 Axes>"
      ]
     },
     "metadata": {
      "needs_background": "light"
     },
     "output_type": "display_data"
    },
    {
     "data": {
      "image/png": "[encoded data removed]",
      "text/plain": [
       "<Figure size 432x288 with 1 Axes>"
      ]
     },
     "metadata": {
      "needs_background": "light"
     },
     "output_type": "display_data"
    }
   ],
   "source": [
    "model.plot_curves(history1)"
   ]
  },
  {
   "cell_type": "code",
   "execution_count": 109,
   "metadata": {},
   "outputs": [],
   "source": [
    "model.save_models(myCNN, \"CNN_n164_k5_d03_kr002_vacc87\")"
   ]
  },
  {
   "cell_type": "code",
   "execution_count": null,
   "metadata": {},
   "outputs": [],
   "source": [
    "def create_model_LSTM(n1, n2, d=0.0, lr=0.001, decay=0.0):\n",
    "    myLSTM = Sequential()\n",
    "    myLSTM.add(Embedding(input_dim=input_dim, output_dim = embedding_dim, weights=[embedding_matrix], input_length=pad_len , trainable=False))\n",
    "    myLSTM.add(Bidirectional(LSTM(n1, dropout=d, return_sequences=True)))\n",
    "    myLSTM.add(GlobalMaxPooling1D())\n",
    "    myLSTM.add(Dense(n2, activation='relu'))\n",
    "    myLSTM.add(Dense(1, activation='sigmoid'))\n",
    "    myAdam = keras.optimizers.Adam(learning_rate=lr, decay=decay)\n",
    "    myLSTM.compile(optimizer=myAdam, loss=\"binary_crossentropy\", metrics=['acc'])\n",
    "    \n",
    "    return myLSTM"
   ]
  },
  {
   "cell_type": "code",
   "execution_count": 110,
   "metadata": {},
   "outputs": [
    {
     "name": "stdout",
     "output_type": "stream",
     "text": [
      "Model: \"sequential_6\"\n",
      "_________________________________________________________________\n",
      "Layer (type)                 Output Shape              Param #   \n",
      "=================================================================\n",
      "embedding_6 (Embedding)      (None, 100, 100)          124100    \n",
      "_________________________________________________________________\n",
      "bidirectional (Bidirectional (None, 100, 128)          84480     \n",
      "_________________________________________________________________\n",
      "global_max_pooling1d_6 (Glob (None, 128)               0         \n",
      "_________________________________________________________________\n",
      "dense_16 (Dense)             (None, 32)                4128      \n",
      "_________________________________________________________________\n",
      "dense_17 (Dense)             (None, 1)                 33        \n",
      "=================================================================\n",
      "Total params: 212,741\n",
      "Trainable params: 212,741\n",
      "Non-trainable params: 0\n",
      "_________________________________________________________________\n"
     ]
    }
   ],
   "source": [
    "myLSTM = model.create_model_LSTM(input_dim, embedding_dim, embedding_matrix, input_len, trainable=True, n1=64, n2=32, d=0.3)\n",
    "myLSTM.summary()"
   ]
  },
  {
   "cell_type": "code",
   "execution_count": 111,
   "metadata": {},
   "outputs": [
    {
     "name": "stdout",
     "output_type": "stream",
     "text": [
      "Epoch 1/50\n",
      "25/25 [==============================] - 2s 82ms/step - loss: 0.6759 - acc: 0.6137 - val_loss: 0.6470 - val_acc: 0.6600\n",
      "Epoch 2/50\n",
      "25/25 [==============================] - 2s 63ms/step - loss: 0.5774 - acc: 0.7450 - val_loss: 0.5277 - val_acc: 0.7250\n",
      "Epoch 3/50\n",
      "25/25 [==============================] - 5s 199ms/step - loss: 0.4403 - acc: 0.8200 - val_loss: 0.4691 - val_acc: 0.7650\n",
      "Epoch 4/50\n",
      "25/25 [==============================] - 3s 110ms/step - loss: 0.3336 - acc: 0.8700 - val_loss: 0.4350 - val_acc: 0.8000\n",
      "Epoch 5/50\n",
      "25/25 [==============================] - 3s 112ms/step - loss: 0.2601 - acc: 0.8963 - val_loss: 0.4525 - val_acc: 0.8100\n",
      "Epoch 6/50\n",
      "25/25 [==============================] - 3s 108ms/step - loss: 0.2065 - acc: 0.9337 - val_loss: 0.4323 - val_acc: 0.8250\n",
      "Epoch 7/50\n",
      "25/25 [==============================] - 3s 104ms/step - loss: 0.1669 - acc: 0.9450 - val_loss: 0.4430 - val_acc: 0.8200\n",
      "Epoch 8/50\n",
      "25/25 [==============================] - 3s 104ms/step - loss: 0.1354 - acc: 0.9538 - val_loss: 0.4883 - val_acc: 0.8550\n",
      "Epoch 9/50\n",
      "25/25 [==============================] - 3s 105ms/step - loss: 0.1128 - acc: 0.9675 - val_loss: 0.4800 - val_acc: 0.8200\n",
      "Epoch 10/50\n",
      "25/25 [==============================] - 2s 92ms/step - loss: 0.0727 - acc: 0.9787 - val_loss: 0.5483 - val_acc: 0.8400\n",
      "Epoch 11/50\n",
      "25/25 [==============================] - 2s 66ms/step - loss: 0.0711 - acc: 0.9812 - val_loss: 0.5266 - val_acc: 0.8550\n",
      "Epoch 12/50\n",
      "25/25 [==============================] - 2s 70ms/step - loss: 0.0512 - acc: 0.9850 - val_loss: 0.5764 - val_acc: 0.8400\n",
      "Epoch 13/50\n",
      "25/25 [==============================] - 2s 66ms/step - loss: 0.0434 - acc: 0.9850 - val_loss: 0.6099 - val_acc: 0.8500\n",
      "Epoch 14/50\n",
      "25/25 [==============================] - 2s 68ms/step - loss: 0.0492 - acc: 0.9862 - val_loss: 0.6361 - val_acc: 0.8500\n",
      "Epoch 15/50\n",
      "25/25 [==============================] - ETA: 0s - loss: 0.0279 - acc: 0.9925\n",
      "Training accuracy above 99%...so training stopped...\n",
      "\n",
      "25/25 [==============================] - 2s 67ms/step - loss: 0.0279 - acc: 0.9925 - val_loss: 0.6260 - val_acc: 0.8700\n"
     ]
    }
   ],
   "source": [
    "history2 = myLSTM.fit(X_train_padded, y_train, epochs=50, batch_size=32, validation_data=(X_test_padded, y_test), callbacks=[myCB], verbose=1)"
   ]
  },
  {
   "cell_type": "code",
   "execution_count": 112,
   "metadata": {},
   "outputs": [
    {
     "name": "stdout",
     "output_type": "stream",
     "text": [
      "7/7 [==============================] - 0s 13ms/step - loss: 0.6260 - acc: 0.8700\n"
     ]
    },
    {
     "data": {
      "text/plain": [
       "[0.6259623169898987, 0.8700000047683716]"
      ]
     },
     "execution_count": 112,
     "metadata": {},
     "output_type": "execute_result"
    }
   ],
   "source": [
    "myLSTM.evaluate(X_test_padded, y_test)"
   ]
  },
  {
   "cell_type": "code",
   "execution_count": 113,
   "metadata": {},
   "outputs": [
    {
     "data": {
      "image/png": "[encoded data removed]",
      "text/plain": [
       "<Figure size 432x288 with 1 Axes>"
      ]
     },
     "metadata": {
      "needs_background": "light"
     },
     "output_type": "display_data"
    },
    {
     "data": {
      "image/png": "[encoded data removed]",
      "text/plain": [
       "<Figure size 432x288 with 1 Axes>"
      ]
     },
     "metadata": {
      "needs_background": "light"
     },
     "output_type": "display_data"
    }
   ],
   "source": [
    "model.plot_curves(history2)"
   ]
  },
  {
   "cell_type": "code",
   "execution_count": 114,
   "metadata": {},
   "outputs": [],
   "source": [
    "model.save_models(myLSTM, \"LSTM_n164_n232_d03_vacc87\")"
   ]
  },
  {
   "cell_type": "code",
   "execution_count": 117,
   "metadata": {},
   "outputs": [],
   "source": [
    "DNN = tf.keras.models.load_model(\"../models/DL/Amazon/DNN_n164_n232_kr0015_vacc81.h5\")\n",
    "CNN = tf.keras.models.load_model(\"../models/DL/Amazon/CNN_n164_k5_d03_kr002_vacc87.h5\")\n",
    "RNN = tf.keras.models.load_model(\"../models/DL/Amazon/LSTM_n164_n232_d03_vacc87.h5\")"
   ]
  },
  {
   "cell_type": "code",
   "execution_count": 125,
   "metadata": {},
   "outputs": [],
   "source": [
    "test_case = [\"Phone is defective, volume botton and power button not working properly. What can i do please suggest.\", \n",
    "             \"Myntra is a very BAD app, very expensive as compared to others. Not affordable for common man. Very low quality.\",\n",
    "            \"I really love shopping at Amazon because any time I have ever had a problem their customer service has always been great about fixing the issue. \",\n",
    "            \"Delivery is very quick also even at the busiest times of the year. I find my orders can come quicker than the estimated date.\",\n",
    "            \"I purchased a item from Amazon and my debit card was charge THREE times! Customer service was terrible! No refund or credit was issued as of now! Amazon has terrible business practices!\",\n",
    "            \"I absolutely love Amazon. Their selections, prices, notifications and returns are so easy and customer friendly.\"]"
   ]
  },
  {
   "cell_type": "code",
   "execution_count": 126,
   "metadata": {},
   "outputs": [
    {
     "name": "stdout",
     "output_type": "stream",
     "text": [
      "6\n"
     ]
    }
   ],
   "source": [
    "print(len(test_case))"
   ]
  },
  {
   "cell_type": "code",
   "execution_count": 127,
   "metadata": {},
   "outputs": [],
   "source": [
    "test_input = []\n",
    "for test in test_case:\n",
    "    instance = tp.preprocess_and_tokenize_test_case(tokenizer, test, padding_type, truncating_type, pad_len)\n",
    "    test_input.append(instance)"
   ]
  },
  {
   "cell_type": "code",
   "execution_count": 128,
   "metadata": {},
   "outputs": [
    {
     "name": "stdout",
     "output_type": "stream",
     "text": [
      "6\n"
     ]
    }
   ],
   "source": [
    "print(len(test_input))"
   ]
  },
  {
   "cell_type": "code",
   "execution_count": 129,
   "metadata": {},
   "outputs": [
    {
     "name": "stdout",
     "output_type": "stream",
     "text": [
      "label is :negative, and it's confidence is: 0.029555732384324074\n",
      "label is :negative, and it's confidence is: 0.051639195531606674\n",
      "label is :positive, and it's confidence is: 0.7455686926841736\n",
      "label is :positive, and it's confidence is: 0.7719343900680542\n",
      "label is :negative, and it's confidence is: 0.0023848258424550295\n",
      "label is :positive, and it's confidence is: 0.9722209572792053\n"
     ]
    }
   ],
   "source": [
    "for x in test_input:\n",
    "    label, confidence = model.predict_label(DNN.predict(x))\n",
    "    print(\"label is :{}, and it's confidence is: {}\".format(label, confidence))"
   ]
  },
  {
   "cell_type": "code",
   "execution_count": 131,
   "metadata": {},
   "outputs": [
    {
     "name": "stdout",
     "output_type": "stream",
     "text": [
      "label is :negative, and it's confidence is: 0.07238233089447021\n",
      "label is :negative, and it's confidence is: 0.057885222136974335\n",
      "label is :positive, and it's confidence is: 0.8851167559623718\n",
      "label is :positive, and it's confidence is: 0.952172040939331\n",
      "label is :negative, and it's confidence is: 0.01969083771109581\n",
      "label is :positive, and it's confidence is: 0.969096302986145\n"
     ]
    }
   ],
   "source": [
    "for x in test_input:\n",
    "    label, confidence = model.predict_label(CNN.predict(x))\n",
    "    print(\"label is :{}, and it's confidence is: {}\".format(label, confidence))"
   ]
  },
  {
   "cell_type": "code",
   "execution_count": 133,
   "metadata": {},
   "outputs": [
    {
     "name": "stdout",
     "output_type": "stream",
     "text": [
      "label is :negative, and it's confidence is: 0.00018255710892844945\n",
      "label is :negative, and it's confidence is: 8.313765283674002e-05\n",
      "label is :positive, and it's confidence is: 0.9999982118606567\n",
      "label is :positive, and it's confidence is: 0.9999985694885254\n",
      "label is :negative, and it's confidence is: 1.3961129297968e-05\n",
      "label is :positive, and it's confidence is: 0.9999910593032837\n"
     ]
    }
   ],
   "source": [
    "for x in test_input:\n",
    "    label, confidence = model.predict_label(RNN.predict(x))\n",
    "    print(\"label is :{}, and it's confidence is: {}\".format(label, confidence))"
   ]
  },
  {
   "cell_type": "code",
   "execution_count": null,
   "metadata": {},
   "outputs": [],
   "source": []
  }
 ],
 "metadata": {
  "kernelspec": {
   "display_name": "Python 3",
   "language": "python",
   "name": "python3"
  },
  "language_info": {
   "codemirror_mode": {
    "name": "ipython",
    "version": 3
   },
   "file_extension": ".py",
   "mimetype": "text/x-python",
   "name": "python",
   "nbconvert_exporter": "python",
   "pygments_lexer": "ipython3",
   "version": "3.7.3"
  }
 },
 "nbformat": 4,
 "nbformat_minor": 2
}
