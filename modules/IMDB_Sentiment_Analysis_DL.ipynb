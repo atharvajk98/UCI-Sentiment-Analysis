{
 "cells": [
  {
   "cell_type": "markdown",
   "metadata": {},
   "source": [
    "### IMPLEMENTATION OF DEEP LEARNING MODELS FOR SENTIMENT ANALYSIS OF IMDB MOVIE REVIEWS.\n",
    "* This notebooks contains the implementation of a Deep Neural Network (DNN), Convolutional Neural Network (CNN), and recurrent Neural Network (LSTM) for sentiment analysis.\n",
    "* The dataset used is **\"Sentiment Labelled Sentences Dataset\", from the UC Irvine Machine Learning Repository.**\n",
    "* The sentences come from three different websites/fields:\n",
    "    * amazon.com\n",
    "    * imdb.com\n",
    "    * yelp.com\n",
    "* In this notebook, only the IMDB movie reviews dataset is used.\n",
    "* Each sentence is labelled as either 1 (for positive) or 0 (for negative).\n",
    "* There exist 500 positive and 500 negative sentences.\n",
    "* This dataset was created for the Paper 'From Group to Individual Labels using Deep Features', Kotzias et. al,. KDD 2015.  *(Please cite the paper if you want to use it :))*\n",
    "\n",
    "* Link to the dataset is: [Sentiment Labelled Sentences Data Set](https://archive.ics.uci.edu/ml/datasets/Sentiment+Labelled+Sentences)"
   ]
  },
  {
   "cell_type": "markdown",
   "metadata": {},
   "source": [
    "### Importing modules:\n",
    "We are importing two custom built libraries namely \"TextPreprocessing.py\" and \"Model.py\".\n",
    "1. The **TextPreprocessing.py** file contains methods for reading the dataset, preprocessing it, generating tokens, and word embeddings.\n",
    "2. The **Model.py** file contains the Callback class as well as methods in which the DNN, CNN and RNN architectures are defined. It also contains methods to save, and plot models as well as predict class label."
   ]
  },
  {
   "cell_type": "code",
   "execution_count": 1,
   "metadata": {},
   "outputs": [
    {
     "name": "stderr",
     "output_type": "stream",
     "text": [
      "Using TensorFlow backend.\n"
     ]
    }
   ],
   "source": [
    "from TextPreprocessing import TextPreprocessing\n",
    "import Model as model\n",
    "from sklearn.model_selection import train_test_split\n",
    "import tensorflow as tf\n",
    "from tensorflow import keras\n",
    "from keras.regularizers import l2\n",
    "import numpy as np\n",
    "import pandas as pd"
   ]
  },
  {
   "cell_type": "code",
   "execution_count": 2,
   "metadata": {},
   "outputs": [],
   "source": [
    "max_words = 10000\n",
    "oov_word = \"<00V>\"\n",
    "padding_type = \"post\"\n",
    "truncating_type = \"post\"\n",
    "pad_len = 100"
   ]
  },
  {
   "cell_type": "markdown",
   "metadata": {},
   "source": [
    "* Create an object of TextPreprocessing class.\n",
    "* This calls contains all the methods for text Preprocesing and vectorizaiton.\n",
    "* Passing \"IMDB\" as the argument to the consturctor indicates that it must use the IMDB Movie Reviews dataset."
   ]
  },
  {
   "cell_type": "code",
   "execution_count": 4,
   "metadata": {},
   "outputs": [],
   "source": [
    "tp = TextPreprocessing('IMDB')"
   ]
  },
  {
   "cell_type": "code",
   "execution_count": 5,
   "metadata": {},
   "outputs": [],
   "source": [
    "corpus, labels = tp.get_data()"
   ]
  },
  {
   "cell_type": "code",
   "execution_count": 6,
   "metadata": {},
   "outputs": [],
   "source": [
    "df = pd.DataFrame(list(zip(corpus,labels)), columns=['corpus', 'labels'])"
   ]
  },
  {
   "cell_type": "code",
   "execution_count": 7,
   "metadata": {},
   "outputs": [
    {
     "data": {
      "text/html": [
       "<div>\n",
       "<style scoped>\n",
       "    .dataframe tbody tr th:only-of-type {\n",
       "        vertical-align: middle;\n",
       "    }\n",
       "\n",
       "    .dataframe tbody tr th {\n",
       "        vertical-align: top;\n",
       "    }\n",
       "\n",
       "    .dataframe thead th {\n",
       "        text-align: right;\n",
       "    }\n",
       "</style>\n",
       "<table border=\"1\" class=\"dataframe\">\n",
       "  <thead>\n",
       "    <tr style=\"text-align: right;\">\n",
       "      <th></th>\n",
       "      <th>corpus</th>\n",
       "      <th>labels</th>\n",
       "    </tr>\n",
       "  </thead>\n",
       "  <tbody>\n",
       "    <tr>\n",
       "      <th>0</th>\n",
       "      <td>A very, very, very slow-moving, aimless movie ...</td>\n",
       "      <td>0</td>\n",
       "    </tr>\n",
       "    <tr>\n",
       "      <th>1</th>\n",
       "      <td>Not sure who was more lost - the flat characte...</td>\n",
       "      <td>0</td>\n",
       "    </tr>\n",
       "    <tr>\n",
       "      <th>2</th>\n",
       "      <td>Attempting artiness with black &amp; white and cle...</td>\n",
       "      <td>0</td>\n",
       "    </tr>\n",
       "    <tr>\n",
       "      <th>3</th>\n",
       "      <td>Very little music or anything to speak of.</td>\n",
       "      <td>0</td>\n",
       "    </tr>\n",
       "    <tr>\n",
       "      <th>4</th>\n",
       "      <td>The best scene in the movie was when Gerardo i...</td>\n",
       "      <td>1</td>\n",
       "    </tr>\n",
       "  </tbody>\n",
       "</table>\n",
       "</div>"
      ],
      "text/plain": [
       "                                              corpus labels\n",
       "0  A very, very, very slow-moving, aimless movie ...      0\n",
       "1  Not sure who was more lost - the flat characte...      0\n",
       "2  Attempting artiness with black & white and cle...      0\n",
       "3       Very little music or anything to speak of.        0\n",
       "4  The best scene in the movie was when Gerardo i...      1"
      ]
     },
     "execution_count": 7,
     "metadata": {},
     "output_type": "execute_result"
    }
   ],
   "source": [
    "df.head()"
   ]
  },
  {
   "cell_type": "code",
   "execution_count": 8,
   "metadata": {},
   "outputs": [],
   "source": [
    "# Preprocess the dataset\n",
    "X = []\n",
    "for c in df['corpus'].values:\n",
    "    X.append(tp.preprocess_text(c))"
   ]
  },
  {
   "cell_type": "code",
   "execution_count": 9,
   "metadata": {},
   "outputs": [
    {
     "name": "stdout",
     "output_type": "stream",
     "text": [
      "There were several moments in the movie that just didn't need to be there and were excruciatingly slow moving.  \n",
      "several moment movie didn need excruciatingly slow move\n",
      "0\n",
      "\n",
      "However, after seeing the short again after about 25 years, I was amazed at how timeless the film actually is.  \n",
      "however see short year amaze how timeless film actually\n",
      "1\n"
     ]
    }
   ],
   "source": [
    "print(df['corpus'].values[131])\n",
    "print(X[131])\n",
    "print(df['labels'].values[131])\n",
    "\n",
    "print(\"\\n\"+df['corpus'].values[543])\n",
    "print(X[543])\n",
    "print(df['labels'].values[543])"
   ]
  },
  {
   "cell_type": "code",
   "execution_count": 10,
   "metadata": {},
   "outputs": [],
   "source": [
    "#Splitting into training(80%) and testing data(20%)\n",
    "X_train, X_test, y_train, y_test = train_test_split(X, df['labels'].values, test_size=0.20, random_state=42, shuffle=True)"
   ]
  },
  {
   "cell_type": "code",
   "execution_count": 11,
   "metadata": {},
   "outputs": [],
   "source": [
    "y_train = y_train.reshape(y_train.shape[0], -1)\n",
    "y_train = np.array(y_train, dtype=np.float32)\n",
    "y_test = y_test.reshape(y_test.shape[0], -1)\n",
    "y_test = np.array(y_test, dtype=np.float32)"
   ]
  },
  {
   "cell_type": "code",
   "execution_count": 12,
   "metadata": {},
   "outputs": [],
   "source": [
    "#Tokenize and Pad the text sequences\n",
    "tokenizer, vocab_size, X_train_padded, X_test_padded = tp.tokenizer_and_pad_training(X_train, X_test, max_words, oov_word, padding_type, truncating_type, pad_len)"
   ]
  },
  {
   "cell_type": "code",
   "execution_count": 13,
   "metadata": {},
   "outputs": [
    {
     "name": "stdout",
     "output_type": "stream",
     "text": [
      "(800, 100)\n",
      "(800, 1)\n",
      "(200, 100)\n",
      "(200, 1)\n"
     ]
    }
   ],
   "source": [
    "print(X_train_padded.shape)\n",
    "print(y_train.shape)\n",
    "print(X_test_padded.shape)\n",
    "print(y_test.shape)"
   ]
  },
  {
   "cell_type": "markdown",
   "metadata": {},
   "source": [
    "### Word Embeddings:\n",
    "* GloVe Word Embeddings are used. \n",
    "* Each word is represented as a 100 dimensional feature vector.\n",
    "* The file contains embedings for the most frequently used 6 billion words in the english language."
   ]
  },
  {
   "cell_type": "code",
   "execution_count": 14,
   "metadata": {},
   "outputs": [],
   "source": [
    "embedding_matrix = tp.get_embedding_metrix(vocab_size, tokenizer)"
   ]
  },
  {
   "cell_type": "code",
   "execution_count": 15,
   "metadata": {},
   "outputs": [
    {
     "name": "stdout",
     "output_type": "stream",
     "text": [
      "(2188, 100)\n"
     ]
    }
   ],
   "source": [
    "print(embedding_matrix.shape)"
   ]
  },
  {
   "cell_type": "code",
   "execution_count": 16,
   "metadata": {},
   "outputs": [],
   "source": [
    "input_dim = vocab_size\n",
    "embedding_dim = 100\n",
    "input_len = pad_len\n",
    "\n",
    "myCB = model.myCallbacks()"
   ]
  },
  {
   "cell_type": "markdown",
   "metadata": {},
   "source": [
    "### Deep Neural Network Model:\n",
    "* A DNN architecture consists of an Embedding layer, followed by a GlobalMaxPooling1D and three Dense layers.\n",
    "* Pretained GloVe Word Embeddings are used which are again trained according to the dataset.\n",
    "* First Dense layer contains 64 hidden units, and second Dense layer contains 32 hidden units with relu activation.\n",
    "* Weight decay / L2 regularization with lambda=0.015 is used in both the dense layers to reduce overfitting.\n",
    "* The output layer is a Dense layer with a single hidden unit using softmax activation.\n",
    "* Adam optimizer and binary crossentropy loss is used.\n",
    "* The model is trained with a batch size of 32 for 40 epochs / unitl training accuracy reaches 99%."
   ]
  },
  {
   "cell_type": "code",
   "execution_count": 21,
   "metadata": {},
   "outputs": [
    {
     "name": "stdout",
     "output_type": "stream",
     "text": [
      "Model: \"sequential_1\"\n",
      "_________________________________________________________________\n",
      "Layer (type)                 Output Shape              Param #   \n",
      "=================================================================\n",
      "embedding_1 (Embedding)      (None, 100, 100)          218800    \n",
      "_________________________________________________________________\n",
      "global_max_pooling1d_1 (Glob (None, 100)               0         \n",
      "_________________________________________________________________\n",
      "dense_3 (Dense)              (None, 64)                6464      \n",
      "_________________________________________________________________\n",
      "dense_4 (Dense)              (None, 32)                2080      \n",
      "_________________________________________________________________\n",
      "dense_5 (Dense)              (None, 1)                 33        \n",
      "=================================================================\n",
      "Total params: 227,377\n",
      "Trainable params: 227,377\n",
      "Non-trainable params: 0\n",
      "_________________________________________________________________\n"
     ]
    }
   ],
   "source": [
    "myDNN = model.create_model_DNN(input_dim, embedding_dim, embedding_matrix, input_len, trainable=True, n1=64, n2=32, kr=l2(0.015))\n",
    "myDNN.summary()"
   ]
  },
  {
   "cell_type": "code",
   "execution_count": 22,
   "metadata": {
    "scrolled": true
   },
   "outputs": [
    {
     "name": "stdout",
     "output_type": "stream",
     "text": [
      "Epoch 1/40\n",
      "25/25 [==============================] - 0s 18ms/step - loss: 2.3147 - acc: 0.5362 - val_loss: 2.0855 - val_acc: 0.5350\n",
      "Epoch 2/40\n",
      "25/25 [==============================] - 0s 12ms/step - loss: 1.8957 - acc: 0.6413 - val_loss: 1.7260 - val_acc: 0.6600\n",
      "Epoch 3/40\n",
      "25/25 [==============================] - 0s 12ms/step - loss: 1.5624 - acc: 0.7175 - val_loss: 1.4388 - val_acc: 0.7050\n",
      "Epoch 4/40\n",
      "25/25 [==============================] - 0s 10ms/step - loss: 1.2930 - acc: 0.7875 - val_loss: 1.2189 - val_acc: 0.7650\n",
      "Epoch 5/40\n",
      "25/25 [==============================] - 0s 12ms/step - loss: 1.0708 - acc: 0.8012 - val_loss: 1.0530 - val_acc: 0.7450\n",
      "Epoch 6/40\n",
      "25/25 [==============================] - 0s 12ms/step - loss: 0.8869 - acc: 0.8512 - val_loss: 0.9826 - val_acc: 0.7250\n",
      "Epoch 7/40\n",
      "25/25 [==============================] - 0s 12ms/step - loss: 0.7607 - acc: 0.8700 - val_loss: 0.8988 - val_acc: 0.7400\n",
      "Epoch 8/40\n",
      "25/25 [==============================] - 0s 11ms/step - loss: 0.6625 - acc: 0.8813 - val_loss: 0.7786 - val_acc: 0.8050\n",
      "Epoch 9/40\n",
      "25/25 [==============================] - 0s 13ms/step - loss: 0.5420 - acc: 0.9325 - val_loss: 0.7321 - val_acc: 0.8100\n",
      "Epoch 10/40\n",
      "25/25 [==============================] - 0s 11ms/step - loss: 0.4689 - acc: 0.9550 - val_loss: 0.7064 - val_acc: 0.8050\n",
      "Epoch 11/40\n",
      "25/25 [==============================] - 0s 11ms/step - loss: 0.4132 - acc: 0.9712 - val_loss: 0.6744 - val_acc: 0.8200\n",
      "Epoch 12/40\n",
      "25/25 [==============================] - 0s 13ms/step - loss: 0.3652 - acc: 0.9775 - val_loss: 0.6478 - val_acc: 0.8250\n",
      "Epoch 13/40\n",
      "25/25 [==============================] - 0s 11ms/step - loss: 0.3290 - acc: 0.9862 - val_loss: 0.6255 - val_acc: 0.8300\n",
      "Epoch 14/40\n",
      "25/25 [==============================] - 0s 13ms/step - loss: 0.2989 - acc: 0.9887 - val_loss: 0.6080 - val_acc: 0.8300\n",
      "Epoch 15/40\n",
      "24/25 [===========================>..] - ETA: 0s - loss: 0.2740 - acc: 0.9948\n",
      "Training accuracy above 99%...so training stopped...\n",
      "\n",
      "25/25 [==============================] - 0s 12ms/step - loss: 0.2745 - acc: 0.9950 - val_loss: 0.5875 - val_acc: 0.8400\n"
     ]
    }
   ],
   "source": [
    "history = myDNN.fit(X_train_padded, y_train, epochs=40, batch_size=32, verbose=1, validation_data = (X_test_padded, y_test), callbacks=[myCB])"
   ]
  },
  {
   "cell_type": "code",
   "execution_count": 23,
   "metadata": {},
   "outputs": [
    {
     "data": {
      "image/png": "[encoded data removed]",
      "text/plain": [
       "<Figure size 432x288 with 1 Axes>"
      ]
     },
     "metadata": {
      "needs_background": "light"
     },
     "output_type": "display_data"
    },
    {
     "data": {
      "image/png": "[encoded data removed]",
      "text/plain": [
       "<Figure size 432x288 with 1 Axes>"
      ]
     },
     "metadata": {
      "needs_background": "light"
     },
     "output_type": "display_data"
    }
   ],
   "source": [
    "model.plot_curves(history)"
   ]
  },
  {
   "cell_type": "markdown",
   "metadata": {},
   "source": [
    "### Results:\n",
    "* We get a training accuracy of 99.50% and testing accuracy of 84.00%.\n",
    "* The training loss is 0.2745 and testing loss is 0.5875 ."
   ]
  },
  {
   "cell_type": "code",
   "execution_count": 25,
   "metadata": {},
   "outputs": [],
   "source": [
    "model.save_model(myDNN, \"IMDB/DNN_n164_n232_kr0015_vacc84\")"
   ]
  },
  {
   "cell_type": "markdown",
   "metadata": {},
   "source": [
    "### Convolutional Neural Network Model:\n",
    "* A CNN architecture consists of an Embedding layer, followed by a Conv21D layer, GlobalMaxPooling1D layer, Dropout Layer and Dense layer.\n",
    "* Pretained GloVe Word Embeddings are used which are again trained according to the dataset.\n",
    "* The Conv21D layer contains 128 hidden units, with kernel size 5.\n",
    "* Weight decay / L2 regularization with lambda=0.02 is used for the Convolutional layer to reduce overfitting.\n",
    "* A dropout of 25% is implemented.\n",
    "* The output layer is a Dense layer with a single hidden unit using softmax activation.\n",
    "* Adam optimizer and binary crossentropy loss is used.\n",
    "* The model is trained with a batch size of 32 for 40 epochs / unitl training accuracy reaches 99%."
   ]
  },
  {
   "cell_type": "code",
   "execution_count": 35,
   "metadata": {},
   "outputs": [
    {
     "name": "stdout",
     "output_type": "stream",
     "text": [
      "Model: \"sequential_7\"\n",
      "_________________________________________________________________\n",
      "Layer (type)                 Output Shape              Param #   \n",
      "=================================================================\n",
      "embedding_7 (Embedding)      (None, 100, 100)          218800    \n",
      "_________________________________________________________________\n",
      "conv1d_5 (Conv1D)            (None, 96, 128)           64128     \n",
      "_________________________________________________________________\n",
      "global_max_pooling1d_7 (Glob (None, 128)               0         \n",
      "_________________________________________________________________\n",
      "dropout_5 (Dropout)          (None, 128)               0         \n",
      "_________________________________________________________________\n",
      "dense_11 (Dense)             (None, 1)                 129       \n",
      "=================================================================\n",
      "Total params: 283,057\n",
      "Trainable params: 283,057\n",
      "Non-trainable params: 0\n",
      "_________________________________________________________________\n"
     ]
    }
   ],
   "source": [
    "myCNN = model.create_model_CNN(input_dim, embedding_dim, embedding_matrix, input_len, trainable=True, n1=128, k=5, d=0.25, kr=l2(0.02))\n",
    "myCNN.summary()"
   ]
  },
  {
   "cell_type": "code",
   "execution_count": 36,
   "metadata": {
    "scrolled": true
   },
   "outputs": [
    {
     "name": "stdout",
     "output_type": "stream",
     "text": [
      "Epoch 1/40\n",
      "25/25 [==============================] - 1s 47ms/step - loss: 2.4938 - acc: 0.5950 - val_loss: 1.9914 - val_acc: 0.7350\n",
      "Epoch 2/40\n",
      "25/25 [==============================] - 1s 46ms/step - loss: 1.6068 - acc: 0.8000 - val_loss: 1.4183 - val_acc: 0.7550\n",
      "Epoch 3/40\n",
      "25/25 [==============================] - 1s 42ms/step - loss: 1.1059 - acc: 0.8813 - val_loss: 1.0843 - val_acc: 0.7650\n",
      "Epoch 4/40\n",
      "25/25 [==============================] - 1s 41ms/step - loss: 0.8132 - acc: 0.9137 - val_loss: 0.8814 - val_acc: 0.8300\n",
      "Epoch 5/40\n",
      "25/25 [==============================] - 1s 40ms/step - loss: 0.6390 - acc: 0.9250 - val_loss: 0.7586 - val_acc: 0.8300\n",
      "Epoch 6/40\n",
      "25/25 [==============================] - 1s 39ms/step - loss: 0.5189 - acc: 0.9413 - val_loss: 0.6820 - val_acc: 0.8450\n",
      "Epoch 7/40\n",
      "25/25 [==============================] - 1s 40ms/step - loss: 0.4254 - acc: 0.9575 - val_loss: 0.6197 - val_acc: 0.8350\n",
      "Epoch 8/40\n",
      "25/25 [==============================] - 1s 39ms/step - loss: 0.3707 - acc: 0.9638 - val_loss: 0.5917 - val_acc: 0.8300\n",
      "Epoch 9/40\n",
      "25/25 [==============================] - 1s 40ms/step - loss: 0.3285 - acc: 0.9712 - val_loss: 0.5540 - val_acc: 0.8500\n",
      "Epoch 10/40\n",
      "25/25 [==============================] - 1s 40ms/step - loss: 0.2887 - acc: 0.9675 - val_loss: 0.5313 - val_acc: 0.8700\n",
      "Epoch 11/40\n",
      "25/25 [==============================] - 1s 39ms/step - loss: 0.2558 - acc: 0.9812 - val_loss: 0.5106 - val_acc: 0.8750\n",
      "Epoch 12/40\n",
      "24/25 [===========================>..] - ETA: 0s - loss: 0.2331 - acc: 0.9896\n",
      "Training accuracy above 99%...so training stopped...\n",
      "\n",
      "25/25 [==============================] - 1s 42ms/step - loss: 0.2321 - acc: 0.9900 - val_loss: 0.4965 - val_acc: 0.8550\n"
     ]
    }
   ],
   "source": [
    "history1 = myCNN.fit(X_train_padded, y_train, epochs=40, batch_size=32, validation_data=(X_test_padded, y_test), callbacks=[myCB], verbose=1)"
   ]
  },
  {
   "cell_type": "code",
   "execution_count": 37,
   "metadata": {},
   "outputs": [
    {
     "data": {
      "image/png": "[encoded data removed]",
      "text/plain": [
       "<Figure size 432x288 with 1 Axes>"
      ]
     },
     "metadata": {
      "needs_background": "light"
     },
     "output_type": "display_data"
    },
    {
     "data": {
      "image/png": "[encoded data removed]",
      "text/plain": [
       "<Figure size 432x288 with 1 Axes>"
      ]
     },
     "metadata": {
      "needs_background": "light"
     },
     "output_type": "display_data"
    }
   ],
   "source": [
    "model.plot_curves(history1)"
   ]
  },
  {
   "cell_type": "markdown",
   "metadata": {},
   "source": [
    "### Results:\n",
    "* We get a training accuracy of 99.00% and testing accuracy of 85.50%.\n",
    "* The training loss is 0.2321 and testing loss is 0.4965 ."
   ]
  },
  {
   "cell_type": "code",
   "execution_count": 38,
   "metadata": {},
   "outputs": [],
   "source": [
    "model.save_model(myCNN, \"IMDB/CNN_n128_D025_kr002_vacc85\")"
   ]
  },
  {
   "cell_type": "markdown",
   "metadata": {},
   "source": [
    "### Recurrent Neural Network Model:\n",
    "* A RNN architecture consists of an Embedding layer, followed by a Bidirectional LSTM layer, GlobalMaxPooling1D layer, and two Dense layers.\n",
    "* Pretained GloVe Word Embeddings are used which are again trained according to the dataset.\n",
    "* The Bidirectional LSTM layer contains 32 hidden units.\n",
    "* A dropout of 30% is implemented.\n",
    "* The following Dense layer contains 16 hidden units with relu activation.\n",
    "* The output layer is a Dense layer with a single hidden unit using softmax activation.\n",
    "* Adam optimizer and binary crossentropy loss is used.\n",
    "* The model is trained with a batch size of 32 for 40 epochs / unitl training accuracy reaches 99%."
   ]
  },
  {
   "cell_type": "code",
   "execution_count": 50,
   "metadata": {
    "scrolled": false
   },
   "outputs": [
    {
     "name": "stdout",
     "output_type": "stream",
     "text": [
      "Model: \"sequential_14\"\n",
      "_________________________________________________________________\n",
      "Layer (type)                 Output Shape              Param #   \n",
      "=================================================================\n",
      "embedding_14 (Embedding)     (None, 100, 100)          218800    \n",
      "_________________________________________________________________\n",
      "bidirectional_6 (Bidirection (None, 100, 64)           34048     \n",
      "_________________________________________________________________\n",
      "global_max_pooling1d_14 (Glo (None, 64)                0         \n",
      "_________________________________________________________________\n",
      "dense_24 (Dense)             (None, 16)                1040      \n",
      "_________________________________________________________________\n",
      "dense_25 (Dense)             (None, 1)                 17        \n",
      "=================================================================\n",
      "Total params: 253,905\n",
      "Trainable params: 253,905\n",
      "Non-trainable params: 0\n",
      "_________________________________________________________________\n",
      "Epoch 1/50\n",
      "25/25 [==============================] - 4s 143ms/step - loss: 0.6774 - acc: 0.5962 - val_loss: 0.6601 - val_acc: 0.6950\n",
      "Epoch 2/50\n",
      "25/25 [==============================] - 2s 97ms/step - loss: 0.6137 - acc: 0.7437 - val_loss: 0.5931 - val_acc: 0.7150\n",
      "Epoch 3/50\n",
      "25/25 [==============================] - 2s 98ms/step - loss: 0.5130 - acc: 0.7962 - val_loss: 0.5148 - val_acc: 0.7500A: 1s - loss: 0.547 - ETA: 0s - loss: 0.5191 - acc: 0.7\n",
      "Epoch 4/50\n",
      "25/25 [==============================] - 2s 96ms/step - loss: 0.4028 - acc: 0.8375 - val_loss: 0.4655 - val_acc: 0.7950\n",
      "Epoch 5/50\n",
      "25/25 [==============================] - 2s 100ms/step - loss: 0.3152 - acc: 0.8850 - val_loss: 0.4330 - val_acc: 0.7950\n",
      "Epoch 6/50\n",
      "25/25 [==============================] - 2s 100ms/step - loss: 0.2529 - acc: 0.9050 - val_loss: 0.4217 - val_acc: 0.8300\n",
      "Epoch 7/50\n",
      "25/25 [==============================] - 2s 93ms/step - loss: 0.2260 - acc: 0.9225 - val_loss: 0.4697 - val_acc: 0.8200\n",
      "Epoch 8/50\n",
      "25/25 [==============================] - 2s 96ms/step - loss: 0.1786 - acc: 0.9475 - val_loss: 0.4105 - val_acc: 0.8550\n",
      "Epoch 9/50\n",
      "25/25 [==============================] - 2s 96ms/step - loss: 0.1594 - acc: 0.9463 - val_loss: 0.4260 - val_acc: 0.8500\n",
      "Epoch 10/50\n",
      "25/25 [==============================] - 2s 97ms/step - loss: 0.1220 - acc: 0.9588 - val_loss: 0.4402 - val_acc: 0.8550\n",
      "Epoch 11/50\n",
      "25/25 [==============================] - 2s 99ms/step - loss: 0.1157 - acc: 0.9550 - val_loss: 0.4488 - val_acc: 0.8500\n",
      "Epoch 12/50\n",
      "25/25 [==============================] - 2s 96ms/step - loss: 0.0973 - acc: 0.9688 - val_loss: 0.4517 - val_acc: 0.8600s - loss: 0\n",
      "Epoch 13/50\n",
      "25/25 [==============================] - 2s 96ms/step - loss: 0.0723 - acc: 0.9800 - val_loss: 0.4455 - val_acc: 0.8500\n",
      "Epoch 14/50\n",
      "25/25 [==============================] - 2s 96ms/step - loss: 0.0753 - acc: 0.9787 - val_loss: 0.4835 - val_acc: 0.8650\n",
      "Epoch 15/50\n",
      "25/25 [==============================] - 2s 96ms/step - loss: 0.0676 - acc: 0.9812 - val_loss: 0.5018 - val_acc: 0.8500\n",
      "Epoch 16/50\n",
      "25/25 [==============================] - 2s 99ms/step - loss: 0.0553 - acc: 0.9850 - val_loss: 0.4957 - val_acc: 0.8550\n",
      "Epoch 17/50\n",
      "25/25 [==============================] - 2s 92ms/step - loss: 0.0537 - acc: 0.9787 - val_loss: 0.6226 - val_acc: 0.8450\n",
      "Epoch 18/50\n",
      "25/25 [==============================] - 2s 96ms/step - loss: 0.0597 - acc: 0.9825 - val_loss: 0.5677 - val_acc: 0.8500\n",
      "Epoch 19/50\n",
      "25/25 [==============================] - 2s 95ms/step - loss: 0.0501 - acc: 0.9837 - val_loss: 0.4857 - val_acc: 0.8500\n",
      "Epoch 20/50\n",
      "25/25 [==============================] - 2s 94ms/step - loss: 0.0408 - acc: 0.9875 - val_loss: 0.5164 - val_acc: 0.8500\n",
      "Epoch 21/50\n",
      "25/25 [==============================] - ETA: 0s - loss: 0.0278 - acc: 0.9950\n",
      "Training accuracy above 99%...so training stopped...\n",
      "\n",
      "25/25 [==============================] - 2s 94ms/step - loss: 0.0278 - acc: 0.9950 - val_loss: 0.5333 - val_acc: 0.8500\n"
     ]
    },
    {
     "data": {
      "image/png": "[encoded data removed]",
      "text/plain": [
       "<Figure size 432x288 with 1 Axes>"
      ]
     },
     "metadata": {
      "needs_background": "light"
     },
     "output_type": "display_data"
    },
    {
     "data": {
      "image/png": "[encoded data removed]",
      "text/plain": [
       "<Figure size 432x288 with 1 Axes>"
      ]
     },
     "metadata": {
      "needs_background": "light"
     },
     "output_type": "display_data"
    }
   ],
   "source": [
    "myRNN = model.create_model_LSTM(input_dim, embedding_dim, embedding_matrix, input_len, trainable=True, n1=32, n2=16, d=0.3)\n",
    "myRNN.summary()\n",
    "\n",
    "history = myRNN.fit(X_train_padded, y_train, epochs=50, batch_size=32, validation_data=(X_test_padded, y_test), callbacks=[myCB], verbose=1)\n",
    "model.plot_curves(history)"
   ]
  },
  {
   "cell_type": "markdown",
   "metadata": {},
   "source": [
    "### Results:\n",
    "* We get a training accuracy of 99.50% and testing accuracy of 85.00%.\n",
    "* The training loss is 0.0278 and testing loss is 0.5333 ."
   ]
  },
  {
   "cell_type": "code",
   "execution_count": 52,
   "metadata": {},
   "outputs": [],
   "source": [
    "model.save_model(myRNN, \"IMDB/LSTM_n132_n216_d03_vacc85\")"
   ]
  },
  {
   "cell_type": "markdown",
   "metadata": {},
   "source": [
    "### Testing on Manually collected data"
   ]
  },
  {
   "cell_type": "code",
   "execution_count": 54,
   "metadata": {},
   "outputs": [],
   "source": [
    "DNN = tf.keras.models.load_model(\"../models/DL/IMDB/DNN_n164_n232_kr0015_vacc84.h5\")\n",
    "CNN = tf.keras.models.load_model(\"../models/DL/IMDB/CNN_n128_D025_kr002_vacc85.h5\")\n",
    "RNN = tf.keras.models.load_model(\"../models/DL/IMDB/LSTM_n132_n216_d03_vacc85.h5\")"
   ]
  },
  {
   "cell_type": "code",
   "execution_count": 56,
   "metadata": {},
   "outputs": [],
   "source": [
    "test_cases = [\"The heart of the show is the relationship between the leads; yet they get about half an episode together. Most storylines lead nowhere and, ultimately, nothing really changes. Dull, hollow, & boring filler.\",\n",
    "             \"is a loving tribute to one of the most extraordinary strategic bomb units of WWII... time capsule\",\n",
    "             \"Tons of phenomenal archive footage & stills ranging from the launch / moon / space activities, down to period detail, fashion, cars, etc. To this day, an unbelievable feat, deftly re-told and with the detail & scope it deserves. Loved it.\",\n",
    "             \"...a tense thriller that's undoubtedly at its best within its often unbearably suspenseful opening half hour...\",\n",
    "              \"Yet another tired example of the 'found footage' horror subgenre, this haunted hotel story mainly consists of junky, twitchy video footage and annoying characters who make poor decisions. \",\n",
    "             \"Good movie chemistry between Amitabh & Ayushman was amazing.. Amitabh at his best.\"]"
   ]
  },
  {
   "cell_type": "code",
   "execution_count": 57,
   "metadata": {},
   "outputs": [],
   "source": [
    "test_input = []\n",
    "for test in test_cases:\n",
    "    instance = tp.preprocess_and_tokenize_test_case(tokenizer, test, padding_type, truncating_type, pad_len)\n",
    "    test_input.append(instance)"
   ]
  },
  {
   "cell_type": "code",
   "execution_count": 58,
   "metadata": {},
   "outputs": [
    {
     "name": "stdout",
     "output_type": "stream",
     "text": [
      "label is :negative, and it's confidence is: 0.2020861655473709\n",
      "label is :positive, and it's confidence is: 0.9953317046165466\n",
      "label is :positive, and it's confidence is: 0.8545721769332886\n",
      "label is :positive, and it's confidence is: 0.5354936718940735\n",
      "label is :positive, and it's confidence is: 0.6379318833351135\n",
      "label is :positive, and it's confidence is: 0.9374701976776123\n"
     ]
    }
   ],
   "source": [
    "for x in test_input:\n",
    "    label, confidence = model.predict_label(DNN.predict(x))\n",
    "    print(\"label is :{}, and it's confidence is: {}\".format(label, confidence))"
   ]
  },
  {
   "cell_type": "code",
   "execution_count": 59,
   "metadata": {},
   "outputs": [
    {
     "name": "stdout",
     "output_type": "stream",
     "text": [
      "label is :negative, and it's confidence is: 0.24309687316417694\n",
      "label is :positive, and it's confidence is: 0.9631828665733337\n",
      "label is :positive, and it's confidence is: 0.7609397172927856\n",
      "label is :positive, and it's confidence is: 0.8521255254745483\n",
      "label is :negative, and it's confidence is: 0.0513920895755291\n",
      "label is :positive, and it's confidence is: 0.9312580823898315\n"
     ]
    }
   ],
   "source": [
    "for x in test_input:\n",
    "    label, confidence = model.predict_label(CNN.predict(x))\n",
    "    print(\"label is :{}, and it's confidence is: {}\".format(label, confidence))"
   ]
  },
  {
   "cell_type": "code",
   "execution_count": 60,
   "metadata": {},
   "outputs": [
    {
     "name": "stdout",
     "output_type": "stream",
     "text": [
      "label is :negative, and it's confidence is: 0.0025878525339066982\n",
      "label is :positive, and it's confidence is: 0.9994317889213562\n",
      "label is :positive, and it's confidence is: 0.9992005228996277\n",
      "label is :positive, and it's confidence is: 0.9579780697822571\n",
      "label is :negative, and it's confidence is: 0.009606458246707916\n",
      "label is :positive, and it's confidence is: 0.9986624717712402\n"
     ]
    }
   ],
   "source": [
    "for x in test_input:\n",
    "    label, confidence = model.predict_label(RNN.predict(x))\n",
    "    print(\"label is :{}, and it's confidence is: {}\".format(label, confidence))"
   ]
  },
  {
   "cell_type": "markdown",
   "metadata": {},
   "source": [
    "## Conclusion:\n",
    "* All the three model can successfully classify a product review as positive or negative.\n",
    "* The LSTM model seems to be the best one as it's output labels give the highest confidence.\n",
    "* We can also see how a CNN, which is mostly used in computer vision tasks can be successfully used for text classification."
   ]
  }
 ],
 "metadata": {
  "kernelspec": {
   "display_name": "Python 3",
   "language": "python",
   "name": "python3"
  },
  "language_info": {
   "codemirror_mode": {
    "name": "ipython",
    "version": 3
   },
   "file_extension": ".py",
   "mimetype": "text/x-python",
   "name": "python",
   "nbconvert_exporter": "python",
   "pygments_lexer": "ipython3",
   "version": "3.7.3"
  }
 },
 "nbformat": 4,
 "nbformat_minor": 2
}
